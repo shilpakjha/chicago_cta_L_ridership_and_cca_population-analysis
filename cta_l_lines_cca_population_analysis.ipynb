{
 "cells": [
  {
   "cell_type": "markdown",
   "metadata": {},
   "source": [
    "## Analysis of CTA L-ridership and population trends from 2014 to 2019 in Chicago Community Areas for loop and surrounding areas\n",
    "\n",
    "### Description\n",
    "\n",
    "In Chicago, the nine CTA L-lines (Red, Blue, Brown, Green, Orange, Pink, Purple, Purple Express, and Yellow) allow travelers to go to all major Chicagoland areas near the vicinity of the city.\n",
    "\n",
    "In this project, we will use the CTA L Line ridership data from years, 2014 to 2019, and the population data for each Chicago Community Areas (2000, 2010, 2017) to understand ridership, and population trends and depict patterns.\n",
    "\n",
    "### Project Goals:\n",
    "\n",
    "1. Determine total CTA L-ridership trend from 2014 to 2019 for all CTA L-Lines combined together\n",
    "2. Perform ridership analysis by each of the nine individual CTA L-Lines for 2014 to 2019\n",
    "3. Perform L-Loop Stations ridership analysis (Clark/Lake, State/Lake, Lake/State, Washington/Dearborn, Monroe/State, Adams/Wabash, Washington/Wabash, Harrison, LaSalle, LaSalle/Van Buren, Quincy/Wells, Washington/Wells) Merchandise Mart, Monroe/Dearborn, Jackson/Dearborn\n",
    "4. Determine the population trends near the community areas around the loop and surrounding loop areas\n",
    "\n",
    "### Insights Generated\n",
    "\n",
    "####  A. Overall CTA L ridership declined by 8.1% from 2014 to 2019 \n",
    "\n",
    "1. The total L-ridership declined by 8.1% from 2014 to 2019\n",
    "\n",
    "#### B. Purple, Orange, Yellow, Pink and Red Lines saw double digit percent decline from 2014 to 2019\n",
    "**Purple Line saw a maximum decline (52%)**\n",
    "1. Purple Line ridership decreased by 52%\n",
    "2. Orange Line ridership decreased by 38.4%\n",
    "3. Pink Line ridership decreased by 36.6% \n",
    "4. Yellow Line ridership decreased by 18.1%\n",
    "5. Red Line ridership decreased by 12.9% \n",
    "\n",
    "**Blue Line saw the smallest decline in ridership from 2014 to 2019 (-2.5%)**\n",
    "1. Blue line ridership decreased by 2.5% \n",
    "\n",
    "#### C. Ridership in the loop (16 stations combined) saw 8.4% increase from 2014 to 2019. \n",
    "1. The combined ridership at all 16 stations in the loop saw an increase by 8.4% from 2014 to 2019\n",
    "\n",
    "\n",
    "#### D. L-Stations along Washington Street saw the largest increase in ridership from 2014 to 2019\n",
    "\n",
    "1. Two stations - Washington/Wells, Washington/Dearborn saw an increase in the ridership from 2014 to 2019 (21.7 and 7.3%). Washington/Wabash station was opened in August 2017, so full year data only available for 2018 and 2019. The ridership at Washington/Wabash decreased by 1.7%\n",
    "\n",
    "#### E. The population in the loop (Chicago Community Area 32) saw a 22.5 % increase in the population from 2010 to 2017. \n",
    " \n",
    "\n",
    "### Key Takeaways\n",
    "\n",
    "1. It is interesting to note that even if the overall L- ridership declined from 2014 to 2019 by 8.1%, the Chicago Loop ridership (within the Chicago Loop) increased by 8.4%.\n",
    "2. This trend correlates with the CCA 32 population trend data which saw a 22.5% increase in the loop population from 2010 to 2017.\n",
    "3. A closer look at the loop station ridership showed that the increase in ridership was mainly in a few stations (State/Lake, Washington/Wells, Washington/Dearborn, Monroe/Dearborn, Merchandise Mart, Clark/Lake, LaSalle/Van Buren) - increase range of 22.3 - 1.1 %.\n",
    "4. Based on the data available for the loop stations along Washington St, the increase in ridership was localized to these stations (predominantly Washington/Wells and Washington/Dearborn). This may be because of the close proximity of these stations to the Ogilvie Transpiration Center which is the connection hub for the Chicago Suburban population which works in the Chicago Loop. (Suburban Rail lines - Metra)\n",
    "\n",
    "### Data Sources\n",
    "\n",
    "Sourcing the Data:\n",
    "The advent of the era of data science has led to the City of Chicago publishing and providing access to huge number of datasets covering numerous subjects - from the latest COVID19 dataset to CTA’s L-ridership, L-stops, Taxi rides, Transportation Network Providers (TNP) datasets. The datasets are housed in the “Chicago Data Portal” and can be easily accessed through APIs or can be downloaded for analysis.\n",
    "1. CTA Ridership data API: https://data.cityofchicago.org/Transportation/CTA-Ridership-L-Station-Entries-Monthly-Day-Type-A/t2rn-p8d7\n",
    "2. CTA L-Map Stops data API: https://data.cityofchicago.org/resource/8pix-ypme\n",
    "3. Chicago Community Areas Data: https://datahub.cmap.illinois.gov/dataset/1d2dd970-f0a6-4736-96a1-3caeb431f5e4/resource/96bc2e7d-9276-4d66-8cbf-63a0ed09a2a2/download/CDSarchive201906.zip\n",
    "\n",
    "### Resource Sites for Python and Pandas coding\n",
    "\n",
    "The following sites and resources were used to gain knowledge about CTA Ridership and problem solve coding and formatting issues:\n",
    "1. https://stackoverflow.com\n",
    "2. https://www.w3schools.com\n",
    "3. https://black.now.sh\n",
    "4. https://towardsdatascience.com/exploring-and-visualizing-chicago-transit-data-using-pandas-and-bokeh-part-ii-intro-to-bokeh-5dca6c5ced10\n",
    "5. https://www.makeareadme.com\n",
    "6. https://www.pandas.pydata.org\n",
    "7. https://www.python.org\n"
   ]
  },
  {
   "cell_type": "markdown",
   "metadata": {},
   "source": [
    "### Import the libraries and packages"
   ]
  },
  {
   "cell_type": "code",
   "execution_count": 254,
   "metadata": {},
   "outputs": [],
   "source": [
    "import pandas as pd\n",
    "import matplotlib.pyplot as plt\n",
    "from ast import literal_eval\n",
    "import seaborn as sns\n",
    "import matplotlib.font_manager as font_manager\n",
    "import math\n",
    "import warnings\n",
    "warnings.filterwarnings('ignore')"
   ]
  },
  {
   "cell_type": "markdown",
   "metadata": {},
   "source": [
    "### Import the CTA L-ridership data and the CTA L-map stops data into pandas dataframe"
   ]
  },
  {
   "cell_type": "code",
   "execution_count": 309,
   "metadata": {},
   "outputs": [
    {
     "data": {
      "text/html": [
       "<div>\n",
       "<style scoped>\n",
       "    .dataframe tbody tr th:only-of-type {\n",
       "        vertical-align: middle;\n",
       "    }\n",
       "\n",
       "    .dataframe tbody tr th {\n",
       "        vertical-align: top;\n",
       "    }\n",
       "\n",
       "    .dataframe thead th {\n",
       "        text-align: right;\n",
       "    }\n",
       "</style>\n",
       "<table border=\"1\" class=\"dataframe\">\n",
       "  <thead>\n",
       "    <tr style=\"text-align: right;\">\n",
       "      <th></th>\n",
       "      <th>station_id</th>\n",
       "      <th>stationame</th>\n",
       "      <th>month_beginning</th>\n",
       "      <th>avg_weekday_rides</th>\n",
       "      <th>avg_saturday_rides</th>\n",
       "      <th>avg_sunday_holiday_rides</th>\n",
       "      <th>monthtotal</th>\n",
       "    </tr>\n",
       "  </thead>\n",
       "  <tbody>\n",
       "    <tr>\n",
       "      <th>0</th>\n",
       "      <td>40900</td>\n",
       "      <td>Howard</td>\n",
       "      <td>2001-01-01T00:00:00.000</td>\n",
       "      <td>6233.9</td>\n",
       "      <td>3814.5</td>\n",
       "      <td>2408.6</td>\n",
       "      <td>164447</td>\n",
       "    </tr>\n",
       "    <tr>\n",
       "      <th>1</th>\n",
       "      <td>41190</td>\n",
       "      <td>Jarvis</td>\n",
       "      <td>2001-01-01T00:00:00.000</td>\n",
       "      <td>1489.1</td>\n",
       "      <td>1054.0</td>\n",
       "      <td>718.0</td>\n",
       "      <td>40567</td>\n",
       "    </tr>\n",
       "    <tr>\n",
       "      <th>2</th>\n",
       "      <td>40100</td>\n",
       "      <td>Morse</td>\n",
       "      <td>2001-01-01T00:00:00.000</td>\n",
       "      <td>4412.5</td>\n",
       "      <td>3064.5</td>\n",
       "      <td>2087.8</td>\n",
       "      <td>119772</td>\n",
       "    </tr>\n",
       "    <tr>\n",
       "      <th>3</th>\n",
       "      <td>41300</td>\n",
       "      <td>Loyola</td>\n",
       "      <td>2001-01-01T00:00:00.000</td>\n",
       "      <td>4664.5</td>\n",
       "      <td>3156.0</td>\n",
       "      <td>1952.8</td>\n",
       "      <td>125008</td>\n",
       "    </tr>\n",
       "    <tr>\n",
       "      <th>4</th>\n",
       "      <td>40760</td>\n",
       "      <td>Granville</td>\n",
       "      <td>2001-01-01T00:00:00.000</td>\n",
       "      <td>3109.8</td>\n",
       "      <td>2126.0</td>\n",
       "      <td>1453.8</td>\n",
       "      <td>84189</td>\n",
       "    </tr>\n",
       "  </tbody>\n",
       "</table>\n",
       "</div>"
      ],
      "text/plain": [
       "   station_id stationame          month_beginning  avg_weekday_rides  \\\n",
       "0       40900     Howard  2001-01-01T00:00:00.000             6233.9   \n",
       "1       41190     Jarvis  2001-01-01T00:00:00.000             1489.1   \n",
       "2       40100      Morse  2001-01-01T00:00:00.000             4412.5   \n",
       "3       41300     Loyola  2001-01-01T00:00:00.000             4664.5   \n",
       "4       40760  Granville  2001-01-01T00:00:00.000             3109.8   \n",
       "\n",
       "   avg_saturday_rides  avg_sunday_holiday_rides  monthtotal  \n",
       "0              3814.5                    2408.6      164447  \n",
       "1              1054.0                     718.0       40567  \n",
       "2              3064.5                    2087.8      119772  \n",
       "3              3156.0                    1952.8      125008  \n",
       "4              2126.0                    1453.8       84189  "
      ]
     },
     "execution_count": 309,
     "metadata": {},
     "output_type": "execute_result"
    }
   ],
   "source": [
    "#Get the Data 1 and 2 Files Use API to connect with the portal and get the data\n",
    "\n",
    "# DataFrame 1: CTA L-ridership data\n",
    "#Get the entire ridership data from 2001 to 2020(Q1)\n",
    "\n",
    "l_rides = pd.read_csv(\"https://data.cityofchicago.org/resource/t2rn-p8d7.csv?%24limit=350000\")\n",
    "l_rides.head()"
   ]
  },
  {
   "cell_type": "code",
   "execution_count": 310,
   "metadata": {},
   "outputs": [
    {
     "name": "stdout",
     "output_type": "stream",
     "text": [
      "<class 'pandas.core.frame.DataFrame'>\n",
      "RangeIndex: 33760 entries, 0 to 33759\n",
      "Data columns (total 7 columns):\n",
      " #   Column                    Non-Null Count  Dtype  \n",
      "---  ------                    --------------  -----  \n",
      " 0   station_id                33760 non-null  int64  \n",
      " 1   stationame                33760 non-null  object \n",
      " 2   month_beginning           33760 non-null  object \n",
      " 3   avg_weekday_rides         33760 non-null  float64\n",
      " 4   avg_saturday_rides        33760 non-null  float64\n",
      " 5   avg_sunday_holiday_rides  33760 non-null  float64\n",
      " 6   monthtotal                33760 non-null  int64  \n",
      "dtypes: float64(3), int64(2), object(2)\n",
      "memory usage: 1.8+ MB\n"
     ]
    }
   ],
   "source": [
    "# Check the data for any null values\n",
    "\n",
    "l_rides.info()"
   ]
  },
  {
   "cell_type": "markdown",
   "metadata": {},
   "source": [
    "### CTA L-Ridership data - create new columns for month and year"
   ]
  },
  {
   "cell_type": "code",
   "execution_count": 311,
   "metadata": {},
   "outputs": [
    {
     "data": {
      "text/html": [
       "<div>\n",
       "<style scoped>\n",
       "    .dataframe tbody tr th:only-of-type {\n",
       "        vertical-align: middle;\n",
       "    }\n",
       "\n",
       "    .dataframe tbody tr th {\n",
       "        vertical-align: top;\n",
       "    }\n",
       "\n",
       "    .dataframe thead th {\n",
       "        text-align: right;\n",
       "    }\n",
       "</style>\n",
       "<table border=\"1\" class=\"dataframe\">\n",
       "  <thead>\n",
       "    <tr style=\"text-align: right;\">\n",
       "      <th></th>\n",
       "      <th>station_id</th>\n",
       "      <th>stationame</th>\n",
       "      <th>month_beginning</th>\n",
       "      <th>avg_weekday_rides</th>\n",
       "      <th>avg_saturday_rides</th>\n",
       "      <th>avg_sunday_holiday_rides</th>\n",
       "      <th>monthtotal</th>\n",
       "      <th>date_time</th>\n",
       "      <th>month</th>\n",
       "      <th>year</th>\n",
       "    </tr>\n",
       "  </thead>\n",
       "  <tbody>\n",
       "    <tr>\n",
       "      <th>22121</th>\n",
       "      <td>40900</td>\n",
       "      <td>Howard</td>\n",
       "      <td>2014-01-01T00:00:00.000</td>\n",
       "      <td>5665.7</td>\n",
       "      <td>4130.3</td>\n",
       "      <td>3042.2</td>\n",
       "      <td>156378</td>\n",
       "      <td>2014-01-01</td>\n",
       "      <td>1</td>\n",
       "      <td>2014</td>\n",
       "    </tr>\n",
       "    <tr>\n",
       "      <th>22122</th>\n",
       "      <td>41190</td>\n",
       "      <td>Jarvis</td>\n",
       "      <td>2014-01-01T00:00:00.000</td>\n",
       "      <td>1509.8</td>\n",
       "      <td>1363.0</td>\n",
       "      <td>1025.6</td>\n",
       "      <td>43795</td>\n",
       "      <td>2014-01-01</td>\n",
       "      <td>1</td>\n",
       "      <td>2014</td>\n",
       "    </tr>\n",
       "    <tr>\n",
       "      <th>22123</th>\n",
       "      <td>40100</td>\n",
       "      <td>Morse</td>\n",
       "      <td>2014-01-01T00:00:00.000</td>\n",
       "      <td>3652.2</td>\n",
       "      <td>3075.5</td>\n",
       "      <td>2350.6</td>\n",
       "      <td>104404</td>\n",
       "      <td>2014-01-01</td>\n",
       "      <td>1</td>\n",
       "      <td>2014</td>\n",
       "    </tr>\n",
       "    <tr>\n",
       "      <th>22124</th>\n",
       "      <td>41300</td>\n",
       "      <td>Loyola</td>\n",
       "      <td>2014-01-01T00:00:00.000</td>\n",
       "      <td>5831.0</td>\n",
       "      <td>4617.3</td>\n",
       "      <td>3299.8</td>\n",
       "      <td>163251</td>\n",
       "      <td>2014-01-01</td>\n",
       "      <td>1</td>\n",
       "      <td>2014</td>\n",
       "    </tr>\n",
       "    <tr>\n",
       "      <th>22125</th>\n",
       "      <td>40760</td>\n",
       "      <td>Granville</td>\n",
       "      <td>2014-01-01T00:00:00.000</td>\n",
       "      <td>3834.7</td>\n",
       "      <td>3228.5</td>\n",
       "      <td>2403.2</td>\n",
       "      <td>109294</td>\n",
       "      <td>2014-01-01</td>\n",
       "      <td>1</td>\n",
       "      <td>2014</td>\n",
       "    </tr>\n",
       "  </tbody>\n",
       "</table>\n",
       "</div>"
      ],
      "text/plain": [
       "       station_id stationame          month_beginning  avg_weekday_rides  \\\n",
       "22121       40900     Howard  2014-01-01T00:00:00.000             5665.7   \n",
       "22122       41190     Jarvis  2014-01-01T00:00:00.000             1509.8   \n",
       "22123       40100      Morse  2014-01-01T00:00:00.000             3652.2   \n",
       "22124       41300     Loyola  2014-01-01T00:00:00.000             5831.0   \n",
       "22125       40760  Granville  2014-01-01T00:00:00.000             3834.7   \n",
       "\n",
       "       avg_saturday_rides  avg_sunday_holiday_rides  monthtotal  date_time  \\\n",
       "22121              4130.3                    3042.2      156378 2014-01-01   \n",
       "22122              1363.0                    1025.6       43795 2014-01-01   \n",
       "22123              3075.5                    2350.6      104404 2014-01-01   \n",
       "22124              4617.3                    3299.8      163251 2014-01-01   \n",
       "22125              3228.5                    2403.2      109294 2014-01-01   \n",
       "\n",
       "       month  year  \n",
       "22121      1  2014  \n",
       "22122      1  2014  \n",
       "22123      1  2014  \n",
       "22124      1  2014  \n",
       "22125      1  2014  "
      ]
     },
     "execution_count": 311,
     "metadata": {},
     "output_type": "execute_result"
    }
   ],
   "source": [
    "# Add date_time, year and month columns to the data set\n",
    "\n",
    "l_rides['date_time'] = pd.to_datetime(l_rides['month_beginning'])\n",
    "l_rides[\"month\"] = l_rides[\"date_time\"].dt.month\n",
    "l_rides[\"year\"] = l_rides[\"date_time\"].dt.year\n",
    "\n",
    "# getting 2014 to 2020 ridership data - a total of 11,639 rows and 10 columns\n",
    "\n",
    "l_2014_2020_rides = l_rides[(l_rides['year'] > 2013) & (l_rides['year'] <= 2020)]\n",
    "l_2014_2020_rides.shape\n",
    "l_2014_2020_rides.head()"
   ]
  },
  {
   "cell_type": "markdown",
   "metadata": {},
   "source": [
    "### Import the CTA L-map stops data"
   ]
  },
  {
   "cell_type": "code",
   "execution_count": 312,
   "metadata": {},
   "outputs": [
    {
     "data": {
      "text/html": [
       "<div>\n",
       "<style scoped>\n",
       "    .dataframe tbody tr th:only-of-type {\n",
       "        vertical-align: middle;\n",
       "    }\n",
       "\n",
       "    .dataframe tbody tr th {\n",
       "        vertical-align: top;\n",
       "    }\n",
       "\n",
       "    .dataframe thead th {\n",
       "        text-align: right;\n",
       "    }\n",
       "</style>\n",
       "<table border=\"1\" class=\"dataframe\">\n",
       "  <thead>\n",
       "    <tr style=\"text-align: right;\">\n",
       "      <th></th>\n",
       "      <th>stop_id</th>\n",
       "      <th>direction_id</th>\n",
       "      <th>stop_name</th>\n",
       "      <th>station_name</th>\n",
       "      <th>station_descriptive_name</th>\n",
       "      <th>map_id</th>\n",
       "      <th>ada</th>\n",
       "      <th>red</th>\n",
       "      <th>blue</th>\n",
       "      <th>g</th>\n",
       "      <th>brn</th>\n",
       "      <th>p</th>\n",
       "      <th>pexp</th>\n",
       "      <th>y</th>\n",
       "      <th>pnk</th>\n",
       "      <th>o</th>\n",
       "      <th>location</th>\n",
       "    </tr>\n",
       "  </thead>\n",
       "  <tbody>\n",
       "    <tr>\n",
       "      <th>0</th>\n",
       "      <td>30162</td>\n",
       "      <td>W</td>\n",
       "      <td>18th (54th/Cermak-bound)</td>\n",
       "      <td>18th</td>\n",
       "      <td>18th (Pink Line)</td>\n",
       "      <td>40830</td>\n",
       "      <td>True</td>\n",
       "      <td>False</td>\n",
       "      <td>False</td>\n",
       "      <td>False</td>\n",
       "      <td>False</td>\n",
       "      <td>False</td>\n",
       "      <td>False</td>\n",
       "      <td>False</td>\n",
       "      <td>True</td>\n",
       "      <td>False</td>\n",
       "      <td>(41.857908, -87.669147)</td>\n",
       "    </tr>\n",
       "    <tr>\n",
       "      <th>1</th>\n",
       "      <td>30161</td>\n",
       "      <td>E</td>\n",
       "      <td>18th (Loop-bound)</td>\n",
       "      <td>18th</td>\n",
       "      <td>18th (Pink Line)</td>\n",
       "      <td>40830</td>\n",
       "      <td>True</td>\n",
       "      <td>False</td>\n",
       "      <td>False</td>\n",
       "      <td>False</td>\n",
       "      <td>False</td>\n",
       "      <td>False</td>\n",
       "      <td>False</td>\n",
       "      <td>False</td>\n",
       "      <td>True</td>\n",
       "      <td>False</td>\n",
       "      <td>(41.857908, -87.669147)</td>\n",
       "    </tr>\n",
       "    <tr>\n",
       "      <th>2</th>\n",
       "      <td>30022</td>\n",
       "      <td>N</td>\n",
       "      <td>35th/Archer (Loop-bound)</td>\n",
       "      <td>35th/Archer</td>\n",
       "      <td>35th/Archer (Orange Line)</td>\n",
       "      <td>40120</td>\n",
       "      <td>True</td>\n",
       "      <td>False</td>\n",
       "      <td>False</td>\n",
       "      <td>False</td>\n",
       "      <td>False</td>\n",
       "      <td>False</td>\n",
       "      <td>False</td>\n",
       "      <td>False</td>\n",
       "      <td>False</td>\n",
       "      <td>True</td>\n",
       "      <td>(41.829353, -87.680622)</td>\n",
       "    </tr>\n",
       "    <tr>\n",
       "      <th>3</th>\n",
       "      <td>30023</td>\n",
       "      <td>S</td>\n",
       "      <td>35th/Archer (Midway-bound)</td>\n",
       "      <td>35th/Archer</td>\n",
       "      <td>35th/Archer (Orange Line)</td>\n",
       "      <td>40120</td>\n",
       "      <td>True</td>\n",
       "      <td>False</td>\n",
       "      <td>False</td>\n",
       "      <td>False</td>\n",
       "      <td>False</td>\n",
       "      <td>False</td>\n",
       "      <td>False</td>\n",
       "      <td>False</td>\n",
       "      <td>False</td>\n",
       "      <td>True</td>\n",
       "      <td>(41.829353, -87.680622)</td>\n",
       "    </tr>\n",
       "    <tr>\n",
       "      <th>4</th>\n",
       "      <td>30214</td>\n",
       "      <td>S</td>\n",
       "      <td>35-Bronzeville-IIT (63rd-bound)</td>\n",
       "      <td>35th-Bronzeville-IIT</td>\n",
       "      <td>35th-Bronzeville-IIT (Green Line)</td>\n",
       "      <td>41120</td>\n",
       "      <td>True</td>\n",
       "      <td>False</td>\n",
       "      <td>False</td>\n",
       "      <td>True</td>\n",
       "      <td>False</td>\n",
       "      <td>False</td>\n",
       "      <td>False</td>\n",
       "      <td>False</td>\n",
       "      <td>False</td>\n",
       "      <td>False</td>\n",
       "      <td>(41.831677, -87.625826)</td>\n",
       "    </tr>\n",
       "  </tbody>\n",
       "</table>\n",
       "</div>"
      ],
      "text/plain": [
       "   stop_id direction_id                        stop_name  \\\n",
       "0    30162            W         18th (54th/Cermak-bound)   \n",
       "1    30161            E                18th (Loop-bound)   \n",
       "2    30022            N         35th/Archer (Loop-bound)   \n",
       "3    30023            S       35th/Archer (Midway-bound)   \n",
       "4    30214            S  35-Bronzeville-IIT (63rd-bound)   \n",
       "\n",
       "           station_name           station_descriptive_name  map_id   ada  \\\n",
       "0                  18th                   18th (Pink Line)   40830  True   \n",
       "1                  18th                   18th (Pink Line)   40830  True   \n",
       "2           35th/Archer          35th/Archer (Orange Line)   40120  True   \n",
       "3           35th/Archer          35th/Archer (Orange Line)   40120  True   \n",
       "4  35th-Bronzeville-IIT  35th-Bronzeville-IIT (Green Line)   41120  True   \n",
       "\n",
       "     red   blue      g    brn      p   pexp      y    pnk      o  \\\n",
       "0  False  False  False  False  False  False  False   True  False   \n",
       "1  False  False  False  False  False  False  False   True  False   \n",
       "2  False  False  False  False  False  False  False  False   True   \n",
       "3  False  False  False  False  False  False  False  False   True   \n",
       "4  False  False   True  False  False  False  False  False  False   \n",
       "\n",
       "                  location  \n",
       "0  (41.857908, -87.669147)  \n",
       "1  (41.857908, -87.669147)  \n",
       "2  (41.829353, -87.680622)  \n",
       "3  (41.829353, -87.680622)  \n",
       "4  (41.831677, -87.625826)  "
      ]
     },
     "execution_count": 312,
     "metadata": {},
     "output_type": "execute_result"
    }
   ],
   "source": [
    "l_map_stops = pd.read_csv('https://data.cityofchicago.org/resource/8pix-ypme.csv',sep=',')\n",
    "l_map_stops.head()"
   ]
  },
  {
   "cell_type": "code",
   "execution_count": 313,
   "metadata": {},
   "outputs": [
    {
     "data": {
      "text/plain": [
       "143"
      ]
     },
     "execution_count": 313,
     "metadata": {},
     "output_type": "execute_result"
    }
   ],
   "source": [
    "# There are duplicate values for map ID column since it counts the stops for trains going in both directions.\n",
    "# There are a total of 143 unique stop_ids\n",
    "# We need to keep only one row and drop the duplicate row.\n",
    "\n",
    "l_map_stops['map_id'].unique().size"
   ]
  },
  {
   "cell_type": "markdown",
   "metadata": {},
   "source": [
    "### Add the x and y coordinates for each L stop \n",
    "### Drop the duplicate rows"
   ]
  },
  {
   "cell_type": "code",
   "execution_count": 315,
   "metadata": {},
   "outputs": [
    {
     "data": {
      "text/html": [
       "<div>\n",
       "<style scoped>\n",
       "    .dataframe tbody tr th:only-of-type {\n",
       "        vertical-align: middle;\n",
       "    }\n",
       "\n",
       "    .dataframe tbody tr th {\n",
       "        vertical-align: top;\n",
       "    }\n",
       "\n",
       "    .dataframe thead th {\n",
       "        text-align: right;\n",
       "    }\n",
       "</style>\n",
       "<table border=\"1\" class=\"dataframe\">\n",
       "  <thead>\n",
       "    <tr style=\"text-align: right;\">\n",
       "      <th></th>\n",
       "      <th>stop_id</th>\n",
       "      <th>direction_id</th>\n",
       "      <th>stop_name</th>\n",
       "      <th>station_name</th>\n",
       "      <th>station_descriptive_name</th>\n",
       "      <th>ada</th>\n",
       "      <th>red</th>\n",
       "      <th>blue</th>\n",
       "      <th>g</th>\n",
       "      <th>brn</th>\n",
       "      <th>p</th>\n",
       "      <th>pexp</th>\n",
       "      <th>y</th>\n",
       "      <th>pnk</th>\n",
       "      <th>o</th>\n",
       "      <th>location</th>\n",
       "      <th>coords_x</th>\n",
       "      <th>coords_y</th>\n",
       "    </tr>\n",
       "    <tr>\n",
       "      <th>map_id</th>\n",
       "      <th></th>\n",
       "      <th></th>\n",
       "      <th></th>\n",
       "      <th></th>\n",
       "      <th></th>\n",
       "      <th></th>\n",
       "      <th></th>\n",
       "      <th></th>\n",
       "      <th></th>\n",
       "      <th></th>\n",
       "      <th></th>\n",
       "      <th></th>\n",
       "      <th></th>\n",
       "      <th></th>\n",
       "      <th></th>\n",
       "      <th></th>\n",
       "      <th></th>\n",
       "      <th></th>\n",
       "    </tr>\n",
       "  </thead>\n",
       "  <tbody>\n",
       "    <tr>\n",
       "      <th>40010</th>\n",
       "      <td>1</td>\n",
       "      <td>1</td>\n",
       "      <td>1</td>\n",
       "      <td>1</td>\n",
       "      <td>1</td>\n",
       "      <td>1</td>\n",
       "      <td>1</td>\n",
       "      <td>1</td>\n",
       "      <td>1</td>\n",
       "      <td>1</td>\n",
       "      <td>1</td>\n",
       "      <td>1</td>\n",
       "      <td>1</td>\n",
       "      <td>1</td>\n",
       "      <td>1</td>\n",
       "      <td>1</td>\n",
       "      <td>1</td>\n",
       "      <td>1</td>\n",
       "    </tr>\n",
       "    <tr>\n",
       "      <th>40020</th>\n",
       "      <td>1</td>\n",
       "      <td>1</td>\n",
       "      <td>1</td>\n",
       "      <td>1</td>\n",
       "      <td>1</td>\n",
       "      <td>1</td>\n",
       "      <td>1</td>\n",
       "      <td>1</td>\n",
       "      <td>1</td>\n",
       "      <td>1</td>\n",
       "      <td>1</td>\n",
       "      <td>1</td>\n",
       "      <td>1</td>\n",
       "      <td>1</td>\n",
       "      <td>1</td>\n",
       "      <td>1</td>\n",
       "      <td>1</td>\n",
       "      <td>1</td>\n",
       "    </tr>\n",
       "    <tr>\n",
       "      <th>40030</th>\n",
       "      <td>1</td>\n",
       "      <td>1</td>\n",
       "      <td>1</td>\n",
       "      <td>1</td>\n",
       "      <td>1</td>\n",
       "      <td>1</td>\n",
       "      <td>1</td>\n",
       "      <td>1</td>\n",
       "      <td>1</td>\n",
       "      <td>1</td>\n",
       "      <td>1</td>\n",
       "      <td>1</td>\n",
       "      <td>1</td>\n",
       "      <td>1</td>\n",
       "      <td>1</td>\n",
       "      <td>1</td>\n",
       "      <td>1</td>\n",
       "      <td>1</td>\n",
       "    </tr>\n",
       "    <tr>\n",
       "      <th>40040</th>\n",
       "      <td>1</td>\n",
       "      <td>1</td>\n",
       "      <td>1</td>\n",
       "      <td>1</td>\n",
       "      <td>1</td>\n",
       "      <td>1</td>\n",
       "      <td>1</td>\n",
       "      <td>1</td>\n",
       "      <td>1</td>\n",
       "      <td>1</td>\n",
       "      <td>1</td>\n",
       "      <td>1</td>\n",
       "      <td>1</td>\n",
       "      <td>1</td>\n",
       "      <td>1</td>\n",
       "      <td>1</td>\n",
       "      <td>1</td>\n",
       "      <td>1</td>\n",
       "    </tr>\n",
       "    <tr>\n",
       "      <th>40050</th>\n",
       "      <td>1</td>\n",
       "      <td>1</td>\n",
       "      <td>1</td>\n",
       "      <td>1</td>\n",
       "      <td>1</td>\n",
       "      <td>1</td>\n",
       "      <td>1</td>\n",
       "      <td>1</td>\n",
       "      <td>1</td>\n",
       "      <td>1</td>\n",
       "      <td>1</td>\n",
       "      <td>1</td>\n",
       "      <td>1</td>\n",
       "      <td>1</td>\n",
       "      <td>1</td>\n",
       "      <td>1</td>\n",
       "      <td>1</td>\n",
       "      <td>1</td>\n",
       "    </tr>\n",
       "    <tr>\n",
       "      <th>...</th>\n",
       "      <td>...</td>\n",
       "      <td>...</td>\n",
       "      <td>...</td>\n",
       "      <td>...</td>\n",
       "      <td>...</td>\n",
       "      <td>...</td>\n",
       "      <td>...</td>\n",
       "      <td>...</td>\n",
       "      <td>...</td>\n",
       "      <td>...</td>\n",
       "      <td>...</td>\n",
       "      <td>...</td>\n",
       "      <td>...</td>\n",
       "      <td>...</td>\n",
       "      <td>...</td>\n",
       "      <td>...</td>\n",
       "      <td>...</td>\n",
       "      <td>...</td>\n",
       "    </tr>\n",
       "    <tr>\n",
       "      <th>41660</th>\n",
       "      <td>1</td>\n",
       "      <td>1</td>\n",
       "      <td>1</td>\n",
       "      <td>1</td>\n",
       "      <td>1</td>\n",
       "      <td>1</td>\n",
       "      <td>1</td>\n",
       "      <td>1</td>\n",
       "      <td>1</td>\n",
       "      <td>1</td>\n",
       "      <td>1</td>\n",
       "      <td>1</td>\n",
       "      <td>1</td>\n",
       "      <td>1</td>\n",
       "      <td>1</td>\n",
       "      <td>1</td>\n",
       "      <td>1</td>\n",
       "      <td>1</td>\n",
       "    </tr>\n",
       "    <tr>\n",
       "      <th>41670</th>\n",
       "      <td>1</td>\n",
       "      <td>1</td>\n",
       "      <td>1</td>\n",
       "      <td>1</td>\n",
       "      <td>1</td>\n",
       "      <td>1</td>\n",
       "      <td>1</td>\n",
       "      <td>1</td>\n",
       "      <td>1</td>\n",
       "      <td>1</td>\n",
       "      <td>1</td>\n",
       "      <td>1</td>\n",
       "      <td>1</td>\n",
       "      <td>1</td>\n",
       "      <td>1</td>\n",
       "      <td>1</td>\n",
       "      <td>1</td>\n",
       "      <td>1</td>\n",
       "    </tr>\n",
       "    <tr>\n",
       "      <th>41680</th>\n",
       "      <td>1</td>\n",
       "      <td>1</td>\n",
       "      <td>1</td>\n",
       "      <td>1</td>\n",
       "      <td>1</td>\n",
       "      <td>1</td>\n",
       "      <td>1</td>\n",
       "      <td>1</td>\n",
       "      <td>1</td>\n",
       "      <td>1</td>\n",
       "      <td>1</td>\n",
       "      <td>1</td>\n",
       "      <td>1</td>\n",
       "      <td>1</td>\n",
       "      <td>1</td>\n",
       "      <td>1</td>\n",
       "      <td>1</td>\n",
       "      <td>1</td>\n",
       "    </tr>\n",
       "    <tr>\n",
       "      <th>41690</th>\n",
       "      <td>1</td>\n",
       "      <td>1</td>\n",
       "      <td>1</td>\n",
       "      <td>1</td>\n",
       "      <td>1</td>\n",
       "      <td>1</td>\n",
       "      <td>1</td>\n",
       "      <td>1</td>\n",
       "      <td>1</td>\n",
       "      <td>1</td>\n",
       "      <td>1</td>\n",
       "      <td>1</td>\n",
       "      <td>1</td>\n",
       "      <td>1</td>\n",
       "      <td>1</td>\n",
       "      <td>1</td>\n",
       "      <td>1</td>\n",
       "      <td>1</td>\n",
       "    </tr>\n",
       "    <tr>\n",
       "      <th>41700</th>\n",
       "      <td>1</td>\n",
       "      <td>1</td>\n",
       "      <td>1</td>\n",
       "      <td>1</td>\n",
       "      <td>1</td>\n",
       "      <td>1</td>\n",
       "      <td>1</td>\n",
       "      <td>1</td>\n",
       "      <td>1</td>\n",
       "      <td>1</td>\n",
       "      <td>1</td>\n",
       "      <td>1</td>\n",
       "      <td>1</td>\n",
       "      <td>1</td>\n",
       "      <td>1</td>\n",
       "      <td>1</td>\n",
       "      <td>1</td>\n",
       "      <td>1</td>\n",
       "    </tr>\n",
       "  </tbody>\n",
       "</table>\n",
       "<p>143 rows × 18 columns</p>\n",
       "</div>"
      ],
      "text/plain": [
       "        stop_id  direction_id  stop_name  station_name  \\\n",
       "map_id                                                   \n",
       "40010         1             1          1             1   \n",
       "40020         1             1          1             1   \n",
       "40030         1             1          1             1   \n",
       "40040         1             1          1             1   \n",
       "40050         1             1          1             1   \n",
       "...         ...           ...        ...           ...   \n",
       "41660         1             1          1             1   \n",
       "41670         1             1          1             1   \n",
       "41680         1             1          1             1   \n",
       "41690         1             1          1             1   \n",
       "41700         1             1          1             1   \n",
       "\n",
       "        station_descriptive_name  ada  red  blue  g  brn  p  pexp  y  pnk  o  \\\n",
       "map_id                                                                         \n",
       "40010                          1    1    1     1  1    1  1     1  1    1  1   \n",
       "40020                          1    1    1     1  1    1  1     1  1    1  1   \n",
       "40030                          1    1    1     1  1    1  1     1  1    1  1   \n",
       "40040                          1    1    1     1  1    1  1     1  1    1  1   \n",
       "40050                          1    1    1     1  1    1  1     1  1    1  1   \n",
       "...                          ...  ...  ...   ... ..  ... ..   ... ..  ... ..   \n",
       "41660                          1    1    1     1  1    1  1     1  1    1  1   \n",
       "41670                          1    1    1     1  1    1  1     1  1    1  1   \n",
       "41680                          1    1    1     1  1    1  1     1  1    1  1   \n",
       "41690                          1    1    1     1  1    1  1     1  1    1  1   \n",
       "41700                          1    1    1     1  1    1  1     1  1    1  1   \n",
       "\n",
       "        location  coords_x  coords_y  \n",
       "map_id                                \n",
       "40010          1         1         1  \n",
       "40020          1         1         1  \n",
       "40030          1         1         1  \n",
       "40040          1         1         1  \n",
       "40050          1         1         1  \n",
       "...          ...       ...       ...  \n",
       "41660          1         1         1  \n",
       "41670          1         1         1  \n",
       "41680          1         1         1  \n",
       "41690          1         1         1  \n",
       "41700          1         1         1  \n",
       "\n",
       "[143 rows x 18 columns]"
      ]
     },
     "execution_count": 315,
     "metadata": {},
     "output_type": "execute_result"
    }
   ],
   "source": [
    "# Source referenced: https://towardsdatascience.com/exploring-and-visualizing-chicago-transit-data-using-pandas-and-bokeh-part-ii-intro-to-bokeh-5dca6c5ced10\n",
    "# Use the function to create the x and y coordinates for each l-stop\n",
    "# Add the co-ordinates to each L-stop\n",
    "# Create a xycoord function to generate the location into coordinates \n",
    "\n",
    "def xycoord(Coords):\n",
    "    Coordinates = literal_eval(Coords)\n",
    "    lat = Coordinates[0]\n",
    "    lon = Coordinates[1]\n",
    "\n",
    "    r_major = 6378137.000\n",
    "    x = r_major * math.radians(lon)\n",
    "    scale = x/lon\n",
    "    y = 180.0/math.pi * math.log(math.tan(math.pi/4.0 + \n",
    "        lat * (math.pi/180.0)/2.0)) * scale\n",
    "    return (x, y)\n",
    "\n",
    "l_map_stops['coords_x'] = l_map_stops['location'].apply(lambda x: xycoord(x)[0])\n",
    "l_map_stops['coords_y'] = l_map_stops['location'].apply(lambda x: xycoord(x)[1])\n",
    "l_map_stops[['location', 'coords_x', 'coords_y']].head()\n",
    "\n",
    "# Drop duplicates since each stop is for going to and going from directions. All other data stays same\n",
    "# Verify that there are only 143 rows\n",
    "\n",
    "l_map_stops.drop_duplicates(subset='map_id', keep=\"last\", inplace=True)\n",
    "l_map_stops.groupby([l_map_stops['map_id']]).count()"
   ]
  },
  {
   "cell_type": "markdown",
   "metadata": {},
   "source": [
    "### Change the column name 'map_id' in L-map Stops dataset to 'station_id' \n",
    "### This will allow merging of the two data sets on the station_id column values"
   ]
  },
  {
   "cell_type": "code",
   "execution_count": 316,
   "metadata": {},
   "outputs": [
    {
     "data": {
      "text/html": [
       "<div>\n",
       "<style scoped>\n",
       "    .dataframe tbody tr th:only-of-type {\n",
       "        vertical-align: middle;\n",
       "    }\n",
       "\n",
       "    .dataframe tbody tr th {\n",
       "        vertical-align: top;\n",
       "    }\n",
       "\n",
       "    .dataframe thead th {\n",
       "        text-align: right;\n",
       "    }\n",
       "</style>\n",
       "<table border=\"1\" class=\"dataframe\">\n",
       "  <thead>\n",
       "    <tr style=\"text-align: right;\">\n",
       "      <th></th>\n",
       "      <th>stop_id</th>\n",
       "      <th>direction_id</th>\n",
       "      <th>stop_name</th>\n",
       "      <th>station_name</th>\n",
       "      <th>station_descriptive_name</th>\n",
       "      <th>station_id</th>\n",
       "      <th>ada</th>\n",
       "      <th>red</th>\n",
       "      <th>blue</th>\n",
       "      <th>g</th>\n",
       "      <th>brn</th>\n",
       "      <th>p</th>\n",
       "      <th>pexp</th>\n",
       "      <th>y</th>\n",
       "      <th>pnk</th>\n",
       "      <th>o</th>\n",
       "      <th>location</th>\n",
       "      <th>coords_x</th>\n",
       "      <th>coords_y</th>\n",
       "    </tr>\n",
       "  </thead>\n",
       "  <tbody>\n",
       "    <tr>\n",
       "      <th>1</th>\n",
       "      <td>30161</td>\n",
       "      <td>E</td>\n",
       "      <td>18th (Loop-bound)</td>\n",
       "      <td>18th</td>\n",
       "      <td>18th (Pink Line)</td>\n",
       "      <td>40830</td>\n",
       "      <td>True</td>\n",
       "      <td>False</td>\n",
       "      <td>False</td>\n",
       "      <td>False</td>\n",
       "      <td>False</td>\n",
       "      <td>False</td>\n",
       "      <td>False</td>\n",
       "      <td>False</td>\n",
       "      <td>True</td>\n",
       "      <td>False</td>\n",
       "      <td>(41.857908, -87.669147)</td>\n",
       "      <td>-9.759285e+06</td>\n",
       "      <td>5.139718e+06</td>\n",
       "    </tr>\n",
       "    <tr>\n",
       "      <th>3</th>\n",
       "      <td>30023</td>\n",
       "      <td>S</td>\n",
       "      <td>35th/Archer (Midway-bound)</td>\n",
       "      <td>35th/Archer</td>\n",
       "      <td>35th/Archer (Orange Line)</td>\n",
       "      <td>40120</td>\n",
       "      <td>True</td>\n",
       "      <td>False</td>\n",
       "      <td>False</td>\n",
       "      <td>False</td>\n",
       "      <td>False</td>\n",
       "      <td>False</td>\n",
       "      <td>False</td>\n",
       "      <td>False</td>\n",
       "      <td>False</td>\n",
       "      <td>True</td>\n",
       "      <td>(41.829353, -87.680622)</td>\n",
       "      <td>-9.760562e+06</td>\n",
       "      <td>5.135452e+06</td>\n",
       "    </tr>\n",
       "    <tr>\n",
       "      <th>5</th>\n",
       "      <td>30213</td>\n",
       "      <td>N</td>\n",
       "      <td>35-Bronzeville-IIT (Harlem-bound)</td>\n",
       "      <td>35th-Bronzeville-IIT</td>\n",
       "      <td>35th-Bronzeville-IIT (Green Line)</td>\n",
       "      <td>41120</td>\n",
       "      <td>True</td>\n",
       "      <td>False</td>\n",
       "      <td>False</td>\n",
       "      <td>True</td>\n",
       "      <td>False</td>\n",
       "      <td>False</td>\n",
       "      <td>False</td>\n",
       "      <td>False</td>\n",
       "      <td>False</td>\n",
       "      <td>False</td>\n",
       "      <td>(41.831677, -87.625826)</td>\n",
       "      <td>-9.754462e+06</td>\n",
       "      <td>5.135799e+06</td>\n",
       "    </tr>\n",
       "    <tr>\n",
       "      <th>7</th>\n",
       "      <td>30245</td>\n",
       "      <td>N</td>\n",
       "      <td>43rd (Harlem-bound)</td>\n",
       "      <td>43rd</td>\n",
       "      <td>43rd (Green Line)</td>\n",
       "      <td>41270</td>\n",
       "      <td>True</td>\n",
       "      <td>False</td>\n",
       "      <td>False</td>\n",
       "      <td>True</td>\n",
       "      <td>False</td>\n",
       "      <td>False</td>\n",
       "      <td>False</td>\n",
       "      <td>False</td>\n",
       "      <td>False</td>\n",
       "      <td>False</td>\n",
       "      <td>(41.816462, -87.619021)</td>\n",
       "      <td>-9.753705e+06</td>\n",
       "      <td>5.133526e+06</td>\n",
       "    </tr>\n",
       "    <tr>\n",
       "      <th>9</th>\n",
       "      <td>30209</td>\n",
       "      <td>N</td>\n",
       "      <td>47th (Harlem-bound)</td>\n",
       "      <td>47th</td>\n",
       "      <td>47th (Green Line)</td>\n",
       "      <td>41080</td>\n",
       "      <td>True</td>\n",
       "      <td>False</td>\n",
       "      <td>False</td>\n",
       "      <td>True</td>\n",
       "      <td>False</td>\n",
       "      <td>False</td>\n",
       "      <td>False</td>\n",
       "      <td>False</td>\n",
       "      <td>False</td>\n",
       "      <td>False</td>\n",
       "      <td>(41.809209, -87.618826)</td>\n",
       "      <td>-9.753683e+06</td>\n",
       "      <td>5.132443e+06</td>\n",
       "    </tr>\n",
       "  </tbody>\n",
       "</table>\n",
       "</div>"
      ],
      "text/plain": [
       "   stop_id direction_id                          stop_name  \\\n",
       "1    30161            E                  18th (Loop-bound)   \n",
       "3    30023            S         35th/Archer (Midway-bound)   \n",
       "5    30213            N  35-Bronzeville-IIT (Harlem-bound)   \n",
       "7    30245            N                43rd (Harlem-bound)   \n",
       "9    30209            N                47th (Harlem-bound)   \n",
       "\n",
       "           station_name           station_descriptive_name  station_id   ada  \\\n",
       "1                  18th                   18th (Pink Line)       40830  True   \n",
       "3           35th/Archer          35th/Archer (Orange Line)       40120  True   \n",
       "5  35th-Bronzeville-IIT  35th-Bronzeville-IIT (Green Line)       41120  True   \n",
       "7                  43rd                  43rd (Green Line)       41270  True   \n",
       "9                  47th                  47th (Green Line)       41080  True   \n",
       "\n",
       "     red   blue      g    brn      p   pexp      y    pnk      o  \\\n",
       "1  False  False  False  False  False  False  False   True  False   \n",
       "3  False  False  False  False  False  False  False  False   True   \n",
       "5  False  False   True  False  False  False  False  False  False   \n",
       "7  False  False   True  False  False  False  False  False  False   \n",
       "9  False  False   True  False  False  False  False  False  False   \n",
       "\n",
       "                  location      coords_x      coords_y  \n",
       "1  (41.857908, -87.669147) -9.759285e+06  5.139718e+06  \n",
       "3  (41.829353, -87.680622) -9.760562e+06  5.135452e+06  \n",
       "5  (41.831677, -87.625826) -9.754462e+06  5.135799e+06  \n",
       "7  (41.816462, -87.619021) -9.753705e+06  5.133526e+06  \n",
       "9  (41.809209, -87.618826) -9.753683e+06  5.132443e+06  "
      ]
     },
     "execution_count": 316,
     "metadata": {},
     "output_type": "execute_result"
    }
   ],
   "source": [
    "# Change the column name \"map_id\" to match the name in the l_2014_2020_rides column name which is \"station_id\" \n",
    "#This will allow us to merge the two dataframes \n",
    "#The new merged dataframe now contains the line information added for each station.\n",
    "\n",
    "l_map_stops.rename(columns = {'map_id':'station_id'}, inplace = True)\n",
    "l_map_stops.head()"
   ]
  },
  {
   "cell_type": "markdown",
   "metadata": {},
   "source": [
    "### Merge (Left Join) the CTA L-Rides dataset and the L-Map Stops dataset on the column station_id\n",
    "\n"
   ]
  },
  {
   "cell_type": "code",
   "execution_count": 262,
   "metadata": {},
   "outputs": [
    {
     "data": {
      "text/html": [
       "<div>\n",
       "<style scoped>\n",
       "    .dataframe tbody tr th:only-of-type {\n",
       "        vertical-align: middle;\n",
       "    }\n",
       "\n",
       "    .dataframe tbody tr th {\n",
       "        vertical-align: top;\n",
       "    }\n",
       "\n",
       "    .dataframe thead th {\n",
       "        text-align: right;\n",
       "    }\n",
       "</style>\n",
       "<table border=\"1\" class=\"dataframe\">\n",
       "  <thead>\n",
       "    <tr style=\"text-align: right;\">\n",
       "      <th></th>\n",
       "      <th>station_id</th>\n",
       "      <th>stationame</th>\n",
       "      <th>month_beginning</th>\n",
       "      <th>avg_weekday_rides</th>\n",
       "      <th>avg_saturday_rides</th>\n",
       "      <th>avg_sunday_holiday_rides</th>\n",
       "      <th>monthtotal</th>\n",
       "      <th>date_time</th>\n",
       "      <th>month</th>\n",
       "      <th>year</th>\n",
       "      <th>...</th>\n",
       "      <th>g</th>\n",
       "      <th>brn</th>\n",
       "      <th>p</th>\n",
       "      <th>pexp</th>\n",
       "      <th>y</th>\n",
       "      <th>pnk</th>\n",
       "      <th>o</th>\n",
       "      <th>location</th>\n",
       "      <th>coords_x</th>\n",
       "      <th>coords_y</th>\n",
       "    </tr>\n",
       "  </thead>\n",
       "  <tbody>\n",
       "    <tr>\n",
       "      <th>0</th>\n",
       "      <td>40900</td>\n",
       "      <td>Howard</td>\n",
       "      <td>2014-01-01T00:00:00.000</td>\n",
       "      <td>5665.7</td>\n",
       "      <td>4130.3</td>\n",
       "      <td>3042.2</td>\n",
       "      <td>156378</td>\n",
       "      <td>2014-01-01</td>\n",
       "      <td>1</td>\n",
       "      <td>2014</td>\n",
       "      <td>...</td>\n",
       "      <td>False</td>\n",
       "      <td>False</td>\n",
       "      <td>True</td>\n",
       "      <td>True</td>\n",
       "      <td>True</td>\n",
       "      <td>False</td>\n",
       "      <td>False</td>\n",
       "      <td>(42.019063, -87.672892)</td>\n",
       "      <td>-9.759702e+06</td>\n",
       "      <td>5.163835e+06</td>\n",
       "    </tr>\n",
       "    <tr>\n",
       "      <th>1</th>\n",
       "      <td>41190</td>\n",
       "      <td>Jarvis</td>\n",
       "      <td>2014-01-01T00:00:00.000</td>\n",
       "      <td>1509.8</td>\n",
       "      <td>1363.0</td>\n",
       "      <td>1025.6</td>\n",
       "      <td>43795</td>\n",
       "      <td>2014-01-01</td>\n",
       "      <td>1</td>\n",
       "      <td>2014</td>\n",
       "      <td>...</td>\n",
       "      <td>False</td>\n",
       "      <td>False</td>\n",
       "      <td>False</td>\n",
       "      <td>False</td>\n",
       "      <td>False</td>\n",
       "      <td>False</td>\n",
       "      <td>False</td>\n",
       "      <td>(42.015876, -87.669092)</td>\n",
       "      <td>-9.759279e+06</td>\n",
       "      <td>5.163358e+06</td>\n",
       "    </tr>\n",
       "    <tr>\n",
       "      <th>2</th>\n",
       "      <td>40100</td>\n",
       "      <td>Morse</td>\n",
       "      <td>2014-01-01T00:00:00.000</td>\n",
       "      <td>3652.2</td>\n",
       "      <td>3075.5</td>\n",
       "      <td>2350.6</td>\n",
       "      <td>104404</td>\n",
       "      <td>2014-01-01</td>\n",
       "      <td>1</td>\n",
       "      <td>2014</td>\n",
       "      <td>...</td>\n",
       "      <td>False</td>\n",
       "      <td>False</td>\n",
       "      <td>False</td>\n",
       "      <td>False</td>\n",
       "      <td>False</td>\n",
       "      <td>False</td>\n",
       "      <td>False</td>\n",
       "      <td>(42.008362, -87.665909)</td>\n",
       "      <td>-9.758924e+06</td>\n",
       "      <td>5.162232e+06</td>\n",
       "    </tr>\n",
       "    <tr>\n",
       "      <th>3</th>\n",
       "      <td>41300</td>\n",
       "      <td>Loyola</td>\n",
       "      <td>2014-01-01T00:00:00.000</td>\n",
       "      <td>5831.0</td>\n",
       "      <td>4617.3</td>\n",
       "      <td>3299.8</td>\n",
       "      <td>163251</td>\n",
       "      <td>2014-01-01</td>\n",
       "      <td>1</td>\n",
       "      <td>2014</td>\n",
       "      <td>...</td>\n",
       "      <td>False</td>\n",
       "      <td>False</td>\n",
       "      <td>False</td>\n",
       "      <td>False</td>\n",
       "      <td>False</td>\n",
       "      <td>False</td>\n",
       "      <td>False</td>\n",
       "      <td>(42.001073, -87.661061)</td>\n",
       "      <td>-9.758385e+06</td>\n",
       "      <td>5.161140e+06</td>\n",
       "    </tr>\n",
       "    <tr>\n",
       "      <th>4</th>\n",
       "      <td>40760</td>\n",
       "      <td>Granville</td>\n",
       "      <td>2014-01-01T00:00:00.000</td>\n",
       "      <td>3834.7</td>\n",
       "      <td>3228.5</td>\n",
       "      <td>2403.2</td>\n",
       "      <td>109294</td>\n",
       "      <td>2014-01-01</td>\n",
       "      <td>1</td>\n",
       "      <td>2014</td>\n",
       "      <td>...</td>\n",
       "      <td>False</td>\n",
       "      <td>False</td>\n",
       "      <td>False</td>\n",
       "      <td>False</td>\n",
       "      <td>False</td>\n",
       "      <td>False</td>\n",
       "      <td>False</td>\n",
       "      <td>(41.993664, -87.659202)</td>\n",
       "      <td>-9.758178e+06</td>\n",
       "      <td>5.160030e+06</td>\n",
       "    </tr>\n",
       "  </tbody>\n",
       "</table>\n",
       "<p>5 rows × 28 columns</p>\n",
       "</div>"
      ],
      "text/plain": [
       "   station_id stationame          month_beginning  avg_weekday_rides  \\\n",
       "0       40900     Howard  2014-01-01T00:00:00.000             5665.7   \n",
       "1       41190     Jarvis  2014-01-01T00:00:00.000             1509.8   \n",
       "2       40100      Morse  2014-01-01T00:00:00.000             3652.2   \n",
       "3       41300     Loyola  2014-01-01T00:00:00.000             5831.0   \n",
       "4       40760  Granville  2014-01-01T00:00:00.000             3834.7   \n",
       "\n",
       "   avg_saturday_rides  avg_sunday_holiday_rides  monthtotal  date_time  month  \\\n",
       "0              4130.3                    3042.2      156378 2014-01-01      1   \n",
       "1              1363.0                    1025.6       43795 2014-01-01      1   \n",
       "2              3075.5                    2350.6      104404 2014-01-01      1   \n",
       "3              4617.3                    3299.8      163251 2014-01-01      1   \n",
       "4              3228.5                    2403.2      109294 2014-01-01      1   \n",
       "\n",
       "   year  ...      g    brn      p   pexp      y    pnk      o  \\\n",
       "0  2014  ...  False  False   True   True   True  False  False   \n",
       "1  2014  ...  False  False  False  False  False  False  False   \n",
       "2  2014  ...  False  False  False  False  False  False  False   \n",
       "3  2014  ...  False  False  False  False  False  False  False   \n",
       "4  2014  ...  False  False  False  False  False  False  False   \n",
       "\n",
       "                  location      coords_x      coords_y  \n",
       "0  (42.019063, -87.672892) -9.759702e+06  5.163835e+06  \n",
       "1  (42.015876, -87.669092) -9.759279e+06  5.163358e+06  \n",
       "2  (42.008362, -87.665909) -9.758924e+06  5.162232e+06  \n",
       "3  (42.001073, -87.661061) -9.758385e+06  5.161140e+06  \n",
       "4  (41.993664, -87.659202) -9.758178e+06  5.160030e+06  \n",
       "\n",
       "[5 rows x 28 columns]"
      ]
     },
     "execution_count": 262,
     "metadata": {},
     "output_type": "execute_result"
    }
   ],
   "source": [
    "# Merge the DataFrames together on station_id (data) \n",
    "# This gives us the ridership across all the L-stops between 2014 and 2020.\n",
    "# Left Joined the ridership data with the L-stop data so that all the ridership rows are included.\n",
    "\n",
    "merged_rides_lines = pd.merge(left=l_2014_2020_rides, right=l_map_stops, how='left', left_on='station_id', right_on='station_id')\n",
    "\n",
    "# merged_rides_lines.info()\n",
    "\n",
    "# There are 110 null values\n",
    "\n",
    "merged_rides_lines.head()\n"
   ]
  },
  {
   "cell_type": "markdown",
   "metadata": {},
   "source": [
    "### Replace na values with 0 for the stop_id feature and with 'noname' for stop_name, direction_id, station_name and station_descriptive_name"
   ]
  },
  {
   "cell_type": "code",
   "execution_count": 263,
   "metadata": {},
   "outputs": [],
   "source": [
    "#Filled the na rows and columns with their corresponding values as in the ridership datafile\n",
    "\n",
    "merged_rides_lines.stop_id = merged_rides_lines.stop_id.fillna(0)\n",
    "merged_rides_lines.stop_name = merged_rides_lines.stop_name.fillna('noname')\n",
    "merged_rides_lines.direction_id = merged_rides_lines.direction_id.fillna('noname')\n",
    "merged_rides_lines.station_name = merged_rides_lines.station_name.fillna('noname')\n",
    "merged_rides_lines.station_descriptive_name = merged_rides_lines.station_descriptive_name.fillna('noname')"
   ]
  },
  {
   "cell_type": "markdown",
   "metadata": {},
   "source": [
    "### Replacing the nan values for the line type feature with True for g, pink, orange, brown and purple lines\n",
    "### Replacing the nan values for the line type feature with False for red, blue and pepx lines"
   ]
  },
  {
   "cell_type": "code",
   "execution_count": 317,
   "metadata": {},
   "outputs": [
    {
     "name": "stdout",
     "output_type": "stream",
     "text": [
      "<class 'pandas.core.frame.DataFrame'>\n",
      "Int64Index: 11639 entries, 0 to 11638\n",
      "Data columns (total 28 columns):\n",
      " #   Column                    Non-Null Count  Dtype         \n",
      "---  ------                    --------------  -----         \n",
      " 0   station_id                11639 non-null  int64         \n",
      " 1   stationame                11639 non-null  object        \n",
      " 2   month_beginning           11639 non-null  object        \n",
      " 3   avg_weekday_rides         11639 non-null  float64       \n",
      " 4   avg_saturday_rides        11639 non-null  float64       \n",
      " 5   avg_sunday_holiday_rides  11639 non-null  float64       \n",
      " 6   monthtotal                11639 non-null  int64         \n",
      " 7   date_time                 11639 non-null  datetime64[ns]\n",
      " 8   month                     11639 non-null  int64         \n",
      " 9   year                      11639 non-null  int64         \n",
      " 10  stop_id                   11639 non-null  float64       \n",
      " 11  direction_id              11639 non-null  object        \n",
      " 12  stop_name                 11639 non-null  object        \n",
      " 13  station_name              11639 non-null  object        \n",
      " 14  station_descriptive_name  11639 non-null  object        \n",
      " 15  ada                       11639 non-null  object        \n",
      " 16  red                       11639 non-null  bool          \n",
      " 17  blue                      11639 non-null  bool          \n",
      " 18  g                         11639 non-null  bool          \n",
      " 19  brn                       11639 non-null  bool          \n",
      " 20  p                         11639 non-null  bool          \n",
      " 21  pexp                      11639 non-null  bool          \n",
      " 22  y                         11639 non-null  bool          \n",
      " 23  pnk                       11639 non-null  bool          \n",
      " 24  o                         11639 non-null  bool          \n",
      " 25  location                  11529 non-null  object        \n",
      " 26  coords_x                  11529 non-null  float64       \n",
      " 27  coords_y                  11529 non-null  float64       \n",
      "dtypes: bool(9), datetime64[ns](1), float64(6), int64(4), object(8)\n",
      "memory usage: 1.9+ MB\n"
     ]
    }
   ],
   "source": [
    "# Check for Null Values:\n",
    "# The following fetaures have NANs: stop_id, stop_name, direction_id, station_name\n",
    "# The values for the ada feature will be 'nodata'\n",
    "# The two L stops which were closed in 2017 were Randolph/Wabash and Madison/Wabash. \n",
    "# These two stops therefore have nan values and they will be replaced with True (for the lines which had these stops)\n",
    "# Green, Pink, Orange, Brown, Purple and False for Blue, Red, PEXP and Yellow\n",
    "\n",
    "\n",
    "merged_rides_lines.ada = merged_rides_lines.ada.fillna('nodata')\n",
    "merged_rides_lines.pnk = merged_rides_lines.pnk.fillna(True)\n",
    "merged_rides_lines.brn = merged_rides_lines.brn.fillna(True)\n",
    "merged_rides_lines.g = merged_rides_lines.g.fillna(True)\n",
    "merged_rides_lines.o = merged_rides_lines.o.fillna(True)\n",
    "merged_rides_lines.p = merged_rides_lines.p.fillna(True)\n",
    "merged_rides_lines.red = merged_rides_lines.red.fillna(False)\n",
    "merged_rides_lines.blue = merged_rides_lines.blue.fillna(False)\n",
    "merged_rides_lines.pexp = merged_rides_lines.pexp.fillna(False)\n",
    "merged_rides_lines.y = merged_rides_lines.y.fillna(False)\n",
    "\n",
    "merged_rides_lines.info()"
   ]
  },
  {
   "cell_type": "markdown",
   "metadata": {},
   "source": [
    "### CTA L-Ridership declined by 8.1% from 2014. to 2019"
   ]
  },
  {
   "cell_type": "code",
   "execution_count": 318,
   "metadata": {},
   "outputs": [
    {
     "data": {
      "text/html": [
       "<div>\n",
       "<style scoped>\n",
       "    .dataframe tbody tr th:only-of-type {\n",
       "        vertical-align: middle;\n",
       "    }\n",
       "\n",
       "    .dataframe tbody tr th {\n",
       "        vertical-align: top;\n",
       "    }\n",
       "\n",
       "    .dataframe thead th {\n",
       "        text-align: right;\n",
       "    }\n",
       "</style>\n",
       "<table border=\"1\" class=\"dataframe\">\n",
       "  <thead>\n",
       "    <tr style=\"text-align: right;\">\n",
       "      <th>year</th>\n",
       "      <th>2014</th>\n",
       "      <th>2019</th>\n",
       "      <th>percent_change_2014_2019</th>\n",
       "    </tr>\n",
       "  </thead>\n",
       "  <tbody>\n",
       "    <tr>\n",
       "      <th>monthtotal</th>\n",
       "      <td>194826886</td>\n",
       "      <td>179071205</td>\n",
       "      <td>-8.087016</td>\n",
       "    </tr>\n",
       "  </tbody>\n",
       "</table>\n",
       "</div>"
      ],
      "text/plain": [
       "year             2014       2019  percent_change_2014_2019\n",
       "monthtotal  194826886  179071205                 -8.087016"
      ]
     },
     "execution_count": 318,
     "metadata": {},
     "output_type": "execute_result"
    }
   ],
   "source": [
    "# Analysis 1 - Total CTA Ridership\n",
    "# Sub-analysis 1.1 - All lines overall ridership analysis (2014-2019)\n",
    "\n",
    "l_2014_2020_rides = l_2014_2020_rides[(l_2014_2020_rides['year'] == 2014) | (l_2014_2020_rides['year'] == 2019)]\n",
    "cta_ridership_201419 = pd.DataFrame(l_2014_2020_rides.groupby(['year'])['monthtotal', ].sum())\n",
    "cta_ridership_201419.reset_index()\n",
    "\n",
    "cta_ridership_percent_change = cta_ridership_201419.pivot_table(columns = 'year', values = 'monthtotal')\n",
    "cta_ridership_percent_change['percent_change_2014_2019'] = 100 * (cta_ridership_percent_change[2019] - cta_ridership_percent_change[2014])/(cta_ridership_percent_change[2014])\n",
    "cta_ridership_percent_change"
   ]
  },
  {
   "cell_type": "code",
   "execution_count": 319,
   "metadata": {},
   "outputs": [
    {
     "data": {
      "text/plain": [
       "<Figure size 360x360 with 0 Axes>"
      ]
     },
     "metadata": {},
     "output_type": "display_data"
    },
    {
     "data": {
      "image/png": "[encoded data removed]",
      "text/plain": [
       "<Figure size 432x288 with 1 Axes>"
      ]
     },
     "metadata": {
      "needs_background": "light"
     },
     "output_type": "display_data"
    }
   ],
   "source": [
    "# Bar plot of the percent change in overall CTA L-Ridership from 2014 to 2019\n",
    "\n",
    "plt.figure(figsize = (5,5))\n",
    "\n",
    "ax = cta_ridership_percent_change.plot(kind = 'bar', y = ['percent_change_2014_2019'])\n",
    "ax.set_xlabel('L - Ridership')\n",
    "ax.set_ylabel('Percent Diff in Ridership')\n",
    "ax.set_title(\"Percent Diff in L-Ridership from 2014 to 2019\", size = 14)\n",
    "plt.ylim(-9,2)\n",
    "plt.legend(bbox_to_anchor=(0.6, 1),borderaxespad=0)\n",
    "plt.setp( ax.xaxis.get_majorticklabels(), rotation= 360 )\n",
    "plt.legend(bbox_to_anchor=(1.6, 1),borderaxespad=0)\n",
    "\n",
    "\n",
    "for p in ax.patches:\n",
    "    n = '{:.1f}%'.format(p.get_height())\n",
    "    x = p.get_x() + p.get_width() - 0.32    \n",
    "    y = p.get_y() + p.get_height()/2\n",
    "    ax.annotate(n, (x,y), size = 14, color = 'black')\n",
    "    \n",
    "plt.show()"
   ]
  },
  {
   "cell_type": "markdown",
   "metadata": {},
   "source": [
    "### Ridership Data Frame by year (2014 and 2019) and by Line"
   ]
  },
  {
   "cell_type": "code",
   "execution_count": 267,
   "metadata": {},
   "outputs": [
    {
     "data": {
      "text/html": [
       "<div>\n",
       "<style scoped>\n",
       "    .dataframe tbody tr th:only-of-type {\n",
       "        vertical-align: middle;\n",
       "    }\n",
       "\n",
       "    .dataframe tbody tr th {\n",
       "        vertical-align: top;\n",
       "    }\n",
       "\n",
       "    .dataframe thead th {\n",
       "        text-align: right;\n",
       "    }\n",
       "</style>\n",
       "<table border=\"1\" class=\"dataframe\">\n",
       "  <thead>\n",
       "    <tr style=\"text-align: right;\">\n",
       "      <th></th>\n",
       "      <th>year</th>\n",
       "      <th>monthtotal</th>\n",
       "      <th>red</th>\n",
       "      <th>blue</th>\n",
       "      <th>g</th>\n",
       "      <th>brn</th>\n",
       "      <th>p</th>\n",
       "      <th>pexp</th>\n",
       "      <th>y</th>\n",
       "      <th>o</th>\n",
       "      <th>pnk</th>\n",
       "    </tr>\n",
       "  </thead>\n",
       "  <tbody>\n",
       "    <tr>\n",
       "      <th>0</th>\n",
       "      <td>2014</td>\n",
       "      <td>43025</td>\n",
       "      <td>1.0</td>\n",
       "      <td>0.0</td>\n",
       "      <td>0.0</td>\n",
       "      <td>0.0</td>\n",
       "      <td>0.0</td>\n",
       "      <td>0.0</td>\n",
       "      <td>0.0</td>\n",
       "      <td>0.0</td>\n",
       "      <td>0.0</td>\n",
       "    </tr>\n",
       "    <tr>\n",
       "      <th>1</th>\n",
       "      <td>2014</td>\n",
       "      <td>43795</td>\n",
       "      <td>1.0</td>\n",
       "      <td>0.0</td>\n",
       "      <td>0.0</td>\n",
       "      <td>0.0</td>\n",
       "      <td>0.0</td>\n",
       "      <td>0.0</td>\n",
       "      <td>0.0</td>\n",
       "      <td>0.0</td>\n",
       "      <td>0.0</td>\n",
       "    </tr>\n",
       "    <tr>\n",
       "      <th>2</th>\n",
       "      <td>2014</td>\n",
       "      <td>45038</td>\n",
       "      <td>1.0</td>\n",
       "      <td>0.0</td>\n",
       "      <td>0.0</td>\n",
       "      <td>0.0</td>\n",
       "      <td>0.0</td>\n",
       "      <td>0.0</td>\n",
       "      <td>0.0</td>\n",
       "      <td>0.0</td>\n",
       "      <td>0.0</td>\n",
       "    </tr>\n",
       "    <tr>\n",
       "      <th>3</th>\n",
       "      <td>2014</td>\n",
       "      <td>45947</td>\n",
       "      <td>1.0</td>\n",
       "      <td>0.0</td>\n",
       "      <td>0.0</td>\n",
       "      <td>0.0</td>\n",
       "      <td>0.0</td>\n",
       "      <td>0.0</td>\n",
       "      <td>0.0</td>\n",
       "      <td>0.0</td>\n",
       "      <td>0.0</td>\n",
       "    </tr>\n",
       "    <tr>\n",
       "      <th>4</th>\n",
       "      <td>2014</td>\n",
       "      <td>46612</td>\n",
       "      <td>1.0</td>\n",
       "      <td>0.0</td>\n",
       "      <td>0.0</td>\n",
       "      <td>0.0</td>\n",
       "      <td>0.0</td>\n",
       "      <td>0.0</td>\n",
       "      <td>0.0</td>\n",
       "      <td>0.0</td>\n",
       "      <td>0.0</td>\n",
       "    </tr>\n",
       "    <tr>\n",
       "      <th>...</th>\n",
       "      <td>...</td>\n",
       "      <td>...</td>\n",
       "      <td>...</td>\n",
       "      <td>...</td>\n",
       "      <td>...</td>\n",
       "      <td>...</td>\n",
       "      <td>...</td>\n",
       "      <td>...</td>\n",
       "      <td>...</td>\n",
       "      <td>...</td>\n",
       "      <td>...</td>\n",
       "    </tr>\n",
       "    <tr>\n",
       "      <th>665</th>\n",
       "      <td>2019</td>\n",
       "      <td>551602</td>\n",
       "      <td>1.0</td>\n",
       "      <td>0.0</td>\n",
       "      <td>0.0</td>\n",
       "      <td>0.0</td>\n",
       "      <td>0.0</td>\n",
       "      <td>0.0</td>\n",
       "      <td>0.0</td>\n",
       "      <td>0.0</td>\n",
       "      <td>0.0</td>\n",
       "    </tr>\n",
       "    <tr>\n",
       "      <th>666</th>\n",
       "      <td>2019</td>\n",
       "      <td>557473</td>\n",
       "      <td>1.0</td>\n",
       "      <td>0.0</td>\n",
       "      <td>0.0</td>\n",
       "      <td>0.0</td>\n",
       "      <td>0.0</td>\n",
       "      <td>0.0</td>\n",
       "      <td>0.0</td>\n",
       "      <td>0.0</td>\n",
       "      <td>0.0</td>\n",
       "    </tr>\n",
       "    <tr>\n",
       "      <th>667</th>\n",
       "      <td>2019</td>\n",
       "      <td>570382</td>\n",
       "      <td>1.0</td>\n",
       "      <td>0.0</td>\n",
       "      <td>0.0</td>\n",
       "      <td>0.0</td>\n",
       "      <td>0.0</td>\n",
       "      <td>0.0</td>\n",
       "      <td>0.0</td>\n",
       "      <td>0.0</td>\n",
       "      <td>0.0</td>\n",
       "    </tr>\n",
       "    <tr>\n",
       "      <th>668</th>\n",
       "      <td>2019</td>\n",
       "      <td>572898</td>\n",
       "      <td>1.0</td>\n",
       "      <td>0.0</td>\n",
       "      <td>0.0</td>\n",
       "      <td>0.0</td>\n",
       "      <td>0.0</td>\n",
       "      <td>0.0</td>\n",
       "      <td>0.0</td>\n",
       "      <td>0.0</td>\n",
       "      <td>0.0</td>\n",
       "    </tr>\n",
       "    <tr>\n",
       "      <th>669</th>\n",
       "      <td>2019</td>\n",
       "      <td>594404</td>\n",
       "      <td>1.0</td>\n",
       "      <td>0.0</td>\n",
       "      <td>0.0</td>\n",
       "      <td>0.0</td>\n",
       "      <td>0.0</td>\n",
       "      <td>0.0</td>\n",
       "      <td>0.0</td>\n",
       "      <td>0.0</td>\n",
       "      <td>0.0</td>\n",
       "    </tr>\n",
       "  </tbody>\n",
       "</table>\n",
       "<p>670 rows × 11 columns</p>\n",
       "</div>"
      ],
      "text/plain": [
       "     year  monthtotal  red  blue    g  brn    p  pexp    y    o  pnk\n",
       "0    2014       43025  1.0   0.0  0.0  0.0  0.0   0.0  0.0  0.0  0.0\n",
       "1    2014       43795  1.0   0.0  0.0  0.0  0.0   0.0  0.0  0.0  0.0\n",
       "2    2014       45038  1.0   0.0  0.0  0.0  0.0   0.0  0.0  0.0  0.0\n",
       "3    2014       45947  1.0   0.0  0.0  0.0  0.0   0.0  0.0  0.0  0.0\n",
       "4    2014       46612  1.0   0.0  0.0  0.0  0.0   0.0  0.0  0.0  0.0\n",
       "..    ...         ...  ...   ...  ...  ...  ...   ...  ...  ...  ...\n",
       "665  2019      551602  1.0   0.0  0.0  0.0  0.0   0.0  0.0  0.0  0.0\n",
       "666  2019      557473  1.0   0.0  0.0  0.0  0.0   0.0  0.0  0.0  0.0\n",
       "667  2019      570382  1.0   0.0  0.0  0.0  0.0   0.0  0.0  0.0  0.0\n",
       "668  2019      572898  1.0   0.0  0.0  0.0  0.0   0.0  0.0  0.0  0.0\n",
       "669  2019      594404  1.0   0.0  0.0  0.0  0.0   0.0  0.0  0.0  0.0\n",
       "\n",
       "[670 rows x 11 columns]"
      ]
     },
     "execution_count": 267,
     "metadata": {},
     "output_type": "execute_result"
    }
   ],
   "source": [
    "merged_rides_lines201419 = merged_rides_lines[(merged_rides_lines['year'] == 2014) | (merged_rides_lines['year'] == 2019)]\n",
    "\n",
    "merged_rides_line = pd.DataFrame(merged_rides_rlines201419.groupby(['year','monthtotal'])['red', 'blue', 'g', 'brn', 'p', 'pexp', 'y', 'o', 'pnk'].sum())\n",
    "merged_rides_line = merged_rides_line.reset_index()\n",
    "merged_rides_line"
   ]
  },
  {
   "cell_type": "markdown",
   "metadata": {},
   "source": [
    "### Create a function to get the CTA line based ridership data between 2014 and 2019\n",
    "### From 2014 to 2019, the ridership was observed to decline for all the lines "
   ]
  },
  {
   "cell_type": "code",
   "execution_count": 321,
   "metadata": {},
   "outputs": [
    {
     "name": "stdout",
     "output_type": "stream",
     "text": [
      "\n",
      "Line Name: RED\n"
     ]
    },
    {
     "data": {
      "text/plain": [
       "<Figure size 360x360 with 0 Axes>"
      ]
     },
     "metadata": {},
     "output_type": "display_data"
    },
    {
     "data": {
      "image/png": "[encoded data removed]",
      "text/plain": [
       "<Figure size 432x288 with 1 Axes>"
      ]
     },
     "metadata": {
      "needs_background": "light"
     },
     "output_type": "display_data"
    },
    {
     "name": "stdout",
     "output_type": "stream",
     "text": [
      "\n",
      "Line Name: BLUE\n"
     ]
    },
    {
     "data": {
      "text/plain": [
       "<Figure size 360x360 with 0 Axes>"
      ]
     },
     "metadata": {},
     "output_type": "display_data"
    },
    {
     "data": {
      "image/png": "[encoded data removed]",
      "text/plain": [
       "<Figure size 432x288 with 1 Axes>"
      ]
     },
     "metadata": {
      "needs_background": "light"
     },
     "output_type": "display_data"
    },
    {
     "name": "stdout",
     "output_type": "stream",
     "text": [
      "\n",
      "Line Name: BRN\n"
     ]
    },
    {
     "data": {
      "text/plain": [
       "<Figure size 360x360 with 0 Axes>"
      ]
     },
     "metadata": {},
     "output_type": "display_data"
    },
    {
     "data": {
      "image/png": "[encoded data removed]",
      "text/plain": [
       "<Figure size 432x288 with 1 Axes>"
      ]
     },
     "metadata": {
      "needs_background": "light"
     },
     "output_type": "display_data"
    },
    {
     "name": "stdout",
     "output_type": "stream",
     "text": [
      "\n",
      "Line Name: O\n"
     ]
    },
    {
     "data": {
      "text/plain": [
       "<Figure size 360x360 with 0 Axes>"
      ]
     },
     "metadata": {},
     "output_type": "display_data"
    },
    {
     "data": {
      "image/png": "[encoded data removed]",
      "text/plain": [
       "<Figure size 432x288 with 1 Axes>"
      ]
     },
     "metadata": {
      "needs_background": "light"
     },
     "output_type": "display_data"
    },
    {
     "name": "stdout",
     "output_type": "stream",
     "text": [
      "\n",
      "Line Name: P\n"
     ]
    },
    {
     "data": {
      "text/plain": [
       "<Figure size 360x360 with 0 Axes>"
      ]
     },
     "metadata": {},
     "output_type": "display_data"
    },
    {
     "data": {
      "image/png": "[encoded data removed]",
      "text/plain": [
       "<Figure size 432x288 with 1 Axes>"
      ]
     },
     "metadata": {
      "needs_background": "light"
     },
     "output_type": "display_data"
    },
    {
     "name": "stdout",
     "output_type": "stream",
     "text": [
      "\n",
      "Line Name: Pexp\n"
     ]
    },
    {
     "data": {
      "text/plain": [
       "<Figure size 360x360 with 0 Axes>"
      ]
     },
     "metadata": {},
     "output_type": "display_data"
    },
    {
     "data": {
      "image/png": "[encoded data removed]",
      "text/plain": [
       "<Figure size 432x288 with 1 Axes>"
      ]
     },
     "metadata": {
      "needs_background": "light"
     },
     "output_type": "display_data"
    },
    {
     "name": "stdout",
     "output_type": "stream",
     "text": [
      "\n",
      "Line Name: PandPexp\n"
     ]
    },
    {
     "data": {
      "text/plain": [
       "<Figure size 360x360 with 0 Axes>"
      ]
     },
     "metadata": {},
     "output_type": "display_data"
    },
    {
     "data": {
      "image/png": "[encoded data removed]",
      "text/plain": [
       "<Figure size 432x288 with 1 Axes>"
      ]
     },
     "metadata": {
      "needs_background": "light"
     },
     "output_type": "display_data"
    },
    {
     "name": "stdout",
     "output_type": "stream",
     "text": [
      "\n",
      "Line Name: G\n"
     ]
    },
    {
     "data": {
      "text/plain": [
       "<Figure size 360x360 with 0 Axes>"
      ]
     },
     "metadata": {},
     "output_type": "display_data"
    },
    {
     "data": {
      "image/png": "[encoded data removed]",
      "text/plain": [
       "<Figure size 432x288 with 1 Axes>"
      ]
     },
     "metadata": {
      "needs_background": "light"
     },
     "output_type": "display_data"
    },
    {
     "name": "stdout",
     "output_type": "stream",
     "text": [
      "\n",
      "Line Name: Pnk\n"
     ]
    },
    {
     "data": {
      "text/plain": [
       "<Figure size 360x360 with 0 Axes>"
      ]
     },
     "metadata": {},
     "output_type": "display_data"
    },
    {
     "data": {
      "image/png": "[encoded data removed]",
      "text/plain": [
       "<Figure size 432x288 with 1 Axes>"
      ]
     },
     "metadata": {
      "needs_background": "light"
     },
     "output_type": "display_data"
    },
    {
     "name": "stdout",
     "output_type": "stream",
     "text": [
      "\n",
      "Line Name: Y\n"
     ]
    },
    {
     "data": {
      "text/plain": [
       "<Figure size 360x360 with 0 Axes>"
      ]
     },
     "metadata": {},
     "output_type": "display_data"
    },
    {
     "data": {
      "image/png": "[encoded data removed]",
      "text/plain": [
       "<Figure size 432x288 with 1 Axes>"
      ]
     },
     "metadata": {
      "needs_background": "light"
     },
     "output_type": "display_data"
    }
   ],
   "source": [
    "# Function to get ridership data by each L line\n",
    "\n",
    "line_name = \"\"\n",
    "start_year = 0\n",
    "end_year = 0\n",
    "\n",
    "\n",
    "def l_line_analysis(line_name, start_year, end_year):\n",
    "    line_name = str(line_name)\n",
    "    start_year = int(start_year)\n",
    "    end_year = int(end_year)\n",
    "    print(\"\\nLine Name:\", line_name)\n",
    "    \n",
    "    if line_name == 'RED':\n",
    "        ridesby_line_year_range = merged_rides_lines[(merged_rides_lines['red'] == True) \n",
    "                                                     & ((merged_rides_lines['year'] == start_year) \n",
    "                                                        | (merged_rides_lines['year'] == end_year))]\n",
    "        df = pd.DataFrame(ridesby_line_year_range.groupby('year')['monthtotal'].sum()).reset_index()\n",
    "              \n",
    "    elif line_name == 'BLUE':\n",
    "        ridesby_line_year_range = merged_rides_lines[(merged_rides_lines['blue'] == True) \n",
    "                                                     & ((merged_rides_lines['year'] == start_year) \n",
    "                                                        | (merged_rides_lines['year'] == end_year))]\n",
    "        df = pd.DataFrame(ridesby_line_year_range.groupby('year')['monthtotal'].sum()).reset_index()\n",
    "        \n",
    "    elif line_name == 'O':\n",
    "        ridesby_line_year_range = merged_rides_lines[(merged_rides_lines['o'] == True) \n",
    "                                                     & ((merged_rides_lines['year'] == start_year) \n",
    "                                                        | (merged_rides_lines['year'] == end_year))]\n",
    "        df = pd.DataFrame(ridesby_line_year_range.groupby('year')['monthtotal'].sum()).reset_index()\n",
    "        \n",
    "    elif line_name == 'Pnk':\n",
    "        ridesby_line_year_range = merged_rides_lines[(merged_rides_lines['pnk'] == True) \n",
    "                                                     & ((merged_rides_lines['year'] == start_year) \n",
    "                                                        | (merged_rides_lines['year'] == end_year))]\n",
    "        df = pd.DataFrame(ridesby_line_year_range.groupby('year')['monthtotal'].sum()).reset_index()\n",
    "        \n",
    "    elif line_name == \"P\":\n",
    "        ridesby_line_year_range = merged_rides_lines[(merged_rides_lines['p'] == True) \n",
    "                                                     & ((merged_rides_lines['year'] == start_year) \n",
    "                                                        | (merged_rides_lines['year'] == end_year))]\n",
    "        df = pd.DataFrame(ridesby_line_year_range.groupby('year')['monthtotal'].sum()).reset_index()\n",
    "\n",
    "    elif line_name == \"Pexp\":\n",
    "        ridesby_line_year_range = merged_rides_lines[(merged_rides_lines['pexp'] == True) \n",
    "                                                     & ((merged_rides_lines['year'] == start_year) \n",
    "                                                        | (merged_rides_lines['year'] == end_year))]\n",
    "        df = pd.DataFrame(ridesby_line_year_range.groupby('year')['monthtotal'].sum()).reset_index()\n",
    "\n",
    "    # This uses the OR boolean operator to capture both, the P or Pexp rides\n",
    "    # In 2019 there were 0 P rides since both the stations Madison/Wabash and Randoplh/Wabash were dropped\n",
    "    \n",
    "    elif line_name == \"PandPexp\":\n",
    "        ridesby_line_year_range = merged_rides_lines[\n",
    "            ((merged_rides_lines[\"p\"] == True)\n",
    "            | (merged_rides_lines[\"pexp\"] == True))\n",
    "            & ((merged_rides_lines[\"year\"] == start_year)\n",
    "            | (merged_rides_lines[\"year\"] == end_year))\n",
    "        ]\n",
    "        df = pd.DataFrame(ridesby_line_year_range.groupby('year')['monthtotal'].sum()).reset_index()\n",
    "    \n",
    "    elif line_name == 'G':\n",
    "        ridesby_line_year_range = merged_rides_lines[(merged_rides_lines['g'] == True) \n",
    "                                                     & ((merged_rides_lines['year'] == start_year) \n",
    "                                                        | (merged_rides_lines['year'] == end_year))]\n",
    "        df = pd.DataFrame(ridesby_line_year_range.groupby('year')['monthtotal'].sum()).reset_index()\n",
    "        \n",
    "    elif line_name == 'BRN':\n",
    "        ridesby_line_year_range = merged_rides_lines[(merged_rides_lines['brn'] == True) \n",
    "                                                     & ((merged_rides_lines['year'] == start_year) \n",
    "                                                        | (merged_rides_lines['year'] == end_year))]\n",
    "        df = pd.DataFrame(ridesby_line_year_range.groupby('year')['monthtotal'].sum()).reset_index()\n",
    "        \n",
    "    elif line_name == 'Y':\n",
    "        ridesby_line_year_range = merged_rides_lines[(merged_rides_lines['y'] == True) \n",
    "                                                     & ((merged_rides_lines['year'] == start_year) \n",
    "                                                        | (merged_rides_lines['year'] == end_year))]\n",
    "        df = pd.DataFrame(ridesby_line_year_range.groupby('year')['monthtotal'].sum()).reset_index()\n",
    "        \n",
    "        \n",
    "    df1 = df.reset_index()\n",
    "    df1_percent_change201419 = df1.pivot_table(columns = 'year', values = 'monthtotal')\n",
    "    df1_percent_change201419['percent_change_2014_2019'] = 100 * (df1_percent_change201419[2019] - df1_percent_change201419[2014])/(df1_percent_change201419[2014])\n",
    "    df1_percent_change201419\n",
    "    \n",
    "    # Bar plot of the percent change in Purple and Purple Express Combined Line Ridership from 2014 to 2019\n",
    "\n",
    "    plt.figure(figsize = (5,5))\n",
    "\n",
    "    ax = df1_percent_change201419.plot(kind = 'bar', y = ['percent_change_2014_2019'])\n",
    "    ax.set_xlabel('L - Ridership Totals')\n",
    "    ax.set_ylabel(\"% Diff from 2014 to 2019\", size = 14)\n",
    "    plt.ylim(-53,2)\n",
    "    plt.legend(bbox_to_anchor=(0.6, 1),borderaxespad=0)\n",
    "    plt.setp( ax.xaxis.get_majorticklabels(), rotation= 360 )\n",
    "    plt.legend(bbox_to_anchor=(1.6, 1),borderaxespad=0)\n",
    "\n",
    "    # Annotate the bars with the values\n",
    "\n",
    "    for p in ax.patches:\n",
    "        n = '{:.1f}%'.format(p.get_height())\n",
    "        x = p.get_x() + p.get_width() - 0.32    \n",
    "        y1 = p.get_y() + p.get_height()/2\n",
    "        ax.annotate(n, (x,y1), size = 14, color = 'black')\n",
    "    \n",
    "    plt.show()\n",
    "\n",
    "def main():\n",
    "    l_line_analysis('RED', 2014, 2019)\n",
    "    l_line_analysis('BLUE', 2014, 2019)\n",
    "    l_line_analysis('BRN', 2014, 2019)\n",
    "    l_line_analysis('O', 2014, 2019)\n",
    "    l_line_analysis('P', 2014, 2019)\n",
    "    l_line_analysis('Pexp', 2014, 2019)\n",
    "    l_line_analysis('PandPexp', 2014, 2019)\n",
    "    l_line_analysis('G', 2014, 2019)\n",
    "    l_line_analysis('Pnk', 2014, 2019)\n",
    "    l_line_analysis('Y', 2014, 2019)\n",
    "\n",
    "\n",
    "if __name__ == \"__main__\":\n",
    "    main()\n",
    "\n"
   ]
  },
  {
   "cell_type": "markdown",
   "metadata": {},
   "source": [
    "### CTA individual L- Line Ridership Analysis from 2014 to 2019\n",
    "### All L - lines saw a decline in ridership from 2014 to 2019 \n",
    "### Blue line saw the lowest decline (-2.5%)\n",
    "### Purple Line saw the highest decline (-52%)\n",
    "\n",
    "#### Red Line:"
   ]
  },
  {
   "cell_type": "code",
   "execution_count": 275,
   "metadata": {},
   "outputs": [
    {
     "data": {
      "text/html": [
       "<div>\n",
       "<style scoped>\n",
       "    .dataframe tbody tr th:only-of-type {\n",
       "        vertical-align: middle;\n",
       "    }\n",
       "\n",
       "    .dataframe tbody tr th {\n",
       "        vertical-align: top;\n",
       "    }\n",
       "\n",
       "    .dataframe thead th {\n",
       "        text-align: right;\n",
       "    }\n",
       "</style>\n",
       "<table border=\"1\" class=\"dataframe\">\n",
       "  <thead>\n",
       "    <tr style=\"text-align: right;\">\n",
       "      <th>year</th>\n",
       "      <th>2014</th>\n",
       "      <th>2019</th>\n",
       "      <th>percent_change_2014_2019</th>\n",
       "    </tr>\n",
       "  </thead>\n",
       "  <tbody>\n",
       "    <tr>\n",
       "      <th>monthtotal</th>\n",
       "      <td>62839930</td>\n",
       "      <td>54758440</td>\n",
       "      <td>-12.860438</td>\n",
       "    </tr>\n",
       "  </tbody>\n",
       "</table>\n",
       "</div>"
      ],
      "text/plain": [
       "year            2014      2019  percent_change_2014_2019\n",
       "monthtotal  62839930  54758440                -12.860438"
      ]
     },
     "execution_count": 275,
     "metadata": {},
     "output_type": "execute_result"
    }
   ],
   "source": [
    "# Red Line Ridership from 2014 to 2019\n",
    "\n",
    "merged_rides_rlines201419 = merged_rides_lines[(merged_rides_lines['red'] == True) & ((merged_rides_lines['year'] == 2014) | (merged_rides_lines['year'] == 2019))]\n",
    "merged_rides_red_line = pd.DataFrame(merged_rides_rlines201419.groupby(['year'])['monthtotal'].sum()).reset_index()\n",
    "\n",
    "red_line_percent_change201419 = merged_rides_red_line.pivot_table(columns = 'year', values = 'monthtotal')\n",
    "red_line_percent_change201419['percent_change_2014_2019'] = 100 * (red_line_percent_change201419[2019] - red_line_percent_change201419[2014])/(red_line_percent_change201419[2014])\n",
    "red_line_percent_change201419"
   ]
  },
  {
   "cell_type": "code",
   "execution_count": 283,
   "metadata": {},
   "outputs": [
    {
     "data": {
      "text/plain": [
       "<Figure size 360x360 with 0 Axes>"
      ]
     },
     "metadata": {},
     "output_type": "display_data"
    },
    {
     "data": {
      "image/png": "[encoded data removed]",
      "text/plain": [
       "<Figure size 432x288 with 1 Axes>"
      ]
     },
     "metadata": {
      "needs_background": "light"
     },
     "output_type": "display_data"
    }
   ],
   "source": [
    "# Bar plot of the percent change in Red Line Ridership from 2014 to 2019\n",
    "\n",
    "plt.figure(figsize = (5,5))\n",
    "\n",
    "ax = red_line_percent_change201419.plot(kind = 'bar', y = ['percent_change_2014_2019'])\n",
    "ax.set_xlabel('Red Line L - Ridership')\n",
    "ax.set_ylabel('Percent Diff in Ridership')\n",
    "ax.set_title(\"% Diff in Red Line Ridership from 2014 to 2019\", size = 14)\n",
    "plt.ylim(-9,2)\n",
    "plt.legend(bbox_to_anchor=(0.6, 1),borderaxespad=0)\n",
    "plt.setp( ax.xaxis.get_majorticklabels(), rotation= 360 )\n",
    "plt.legend(bbox_to_anchor=(1.6, 1),borderaxespad=0)\n",
    "\n",
    "\n",
    "for p in ax.patches:\n",
    "    n = '{:.1f}%'.format(p.get_height())\n",
    "    x = p.get_x() + p.get_width() - 0.32    \n",
    "    y = p.get_y() + p.get_height()/2\n",
    "    ax.annotate(n, (x,y), size = 14, color = 'black')\n",
    "    \n",
    "plt.show()"
   ]
  },
  {
   "cell_type": "markdown",
   "metadata": {},
   "source": [
    "#### Blue Line:"
   ]
  },
  {
   "cell_type": "code",
   "execution_count": 274,
   "metadata": {},
   "outputs": [
    {
     "data": {
      "text/html": [
       "<div>\n",
       "<style scoped>\n",
       "    .dataframe tbody tr th:only-of-type {\n",
       "        vertical-align: middle;\n",
       "    }\n",
       "\n",
       "    .dataframe tbody tr th {\n",
       "        vertical-align: top;\n",
       "    }\n",
       "\n",
       "    .dataframe thead th {\n",
       "        text-align: right;\n",
       "    }\n",
       "</style>\n",
       "<table border=\"1\" class=\"dataframe\">\n",
       "  <thead>\n",
       "    <tr style=\"text-align: right;\">\n",
       "      <th>year</th>\n",
       "      <th>2014</th>\n",
       "      <th>2019</th>\n",
       "      <th>percent_change_2014_2019</th>\n",
       "    </tr>\n",
       "  </thead>\n",
       "  <tbody>\n",
       "    <tr>\n",
       "      <th>monthtotal</th>\n",
       "      <td>50520743</td>\n",
       "      <td>49238969</td>\n",
       "      <td>-2.537124</td>\n",
       "    </tr>\n",
       "  </tbody>\n",
       "</table>\n",
       "</div>"
      ],
      "text/plain": [
       "year            2014      2019  percent_change_2014_2019\n",
       "monthtotal  50520743  49238969                 -2.537124"
      ]
     },
     "execution_count": 274,
     "metadata": {},
     "output_type": "execute_result"
    }
   ],
   "source": [
    "# Blue Line Ridership from 2014 to 2019\n",
    "\n",
    "merged_rides_blines201419 = merged_rides_lines[(merged_rides_lines['blue'] == True) & ((merged_rides_lines['year'] == 2014) | (merged_rides_lines['year'] == 2019))]\n",
    "merged_rides_blue_line = pd.DataFrame(merged_rides_blines201419.groupby(['year'])['monthtotal'].sum()).reset_index()\n",
    "\n",
    "blue_line_percent_change201419 = merged_rides_blue_line.pivot_table(columns = 'year', values = 'monthtotal')\n",
    "blue_line_percent_change201419['percent_change_2014_2019'] = 100 * (blue_line_percent_change201419[2019] - blue_line_percent_change201419[2014])/(blue_line_percent_change201419[2014])\n",
    "blue_line_percent_change201419"
   ]
  },
  {
   "cell_type": "code",
   "execution_count": 282,
   "metadata": {},
   "outputs": [
    {
     "data": {
      "text/plain": [
       "<Figure size 360x360 with 0 Axes>"
      ]
     },
     "metadata": {},
     "output_type": "display_data"
    },
    {
     "data": {
      "image/png": "[encoded data removed]",
      "text/plain": [
       "<Figure size 432x288 with 1 Axes>"
      ]
     },
     "metadata": {
      "needs_background": "light"
     },
     "output_type": "display_data"
    }
   ],
   "source": [
    "# Bar plot of the percent change in Blue Line Ridership from 2014 to 2019\n",
    "\n",
    "plt.figure(figsize = (5,5))\n",
    "\n",
    "ax = blue_line_percent_change201419.plot(kind = 'bar', y = ['percent_change_2014_2019'])\n",
    "ax.set_xlabel('Blue Line L - Ridership')\n",
    "ax.set_ylabel('Percent Diff in Ridership')\n",
    "ax.set_title(\"% Diff in Blue Line Ridership from 2014 to 2019\", size = 14)\n",
    "plt.ylim(-2.6,2)\n",
    "plt.legend(bbox_to_anchor=(0.6, 1),borderaxespad=0)\n",
    "plt.setp( ax.xaxis.get_majorticklabels(), rotation= 360 )\n",
    "plt.legend(bbox_to_anchor=(1.6, 1),borderaxespad=0)\n",
    "\n",
    "\n",
    "for p in ax.patches:\n",
    "    n = '{:.1f}%'.format(p.get_height())\n",
    "    x = p.get_x() + p.get_width() - 0.32    \n",
    "    y = p.get_y() + p.get_height()/2\n",
    "    ax.annotate(n, (x,y), size = 14, color = 'black')\n",
    "    \n",
    "plt.show()"
   ]
  },
  {
   "cell_type": "markdown",
   "metadata": {},
   "source": [
    "#### Green Line:"
   ]
  },
  {
   "cell_type": "code",
   "execution_count": 273,
   "metadata": {},
   "outputs": [
    {
     "data": {
      "text/html": [
       "<div>\n",
       "<style scoped>\n",
       "    .dataframe tbody tr th:only-of-type {\n",
       "        vertical-align: middle;\n",
       "    }\n",
       "\n",
       "    .dataframe tbody tr th {\n",
       "        vertical-align: top;\n",
       "    }\n",
       "\n",
       "    .dataframe thead th {\n",
       "        text-align: right;\n",
       "    }\n",
       "</style>\n",
       "<table border=\"1\" class=\"dataframe\">\n",
       "  <thead>\n",
       "    <tr style=\"text-align: right;\">\n",
       "      <th>year</th>\n",
       "      <th>2014</th>\n",
       "      <th>2019</th>\n",
       "      <th>percent_change_2014_2019</th>\n",
       "    </tr>\n",
       "  </thead>\n",
       "  <tbody>\n",
       "    <tr>\n",
       "      <th>monthtotal</th>\n",
       "      <td>22695317</td>\n",
       "      <td>20748617</td>\n",
       "      <td>-8.57754</td>\n",
       "    </tr>\n",
       "  </tbody>\n",
       "</table>\n",
       "</div>"
      ],
      "text/plain": [
       "year            2014      2019  percent_change_2014_2019\n",
       "monthtotal  22695317  20748617                  -8.57754"
      ]
     },
     "execution_count": 273,
     "metadata": {},
     "output_type": "execute_result"
    }
   ],
   "source": [
    "# Green Line Ridership from 2014 to 2019\n",
    "\n",
    "merged_rides_glines201419 = merged_rides_lines[(merged_rides_lines['g'] == True) & ((merged_rides_lines['year'] == 2014) | (merged_rides_lines['year'] == 2019))]\n",
    "merged_rides_green_line = pd.DataFrame(merged_rides_glines201419.groupby(['year'])['monthtotal'].sum()).reset_index()\n",
    "\n",
    "\n",
    "green_line_percent_change201419 = merged_rides_green_line.pivot_table(columns = 'year', values = 'monthtotal')\n",
    "green_line_percent_change201419['percent_change_2014_2019'] = 100 * (green_line_percent_change201419[2019] - green_line_percent_change201419[2014])/(green_line_percent_change201419[2014])\n",
    "green_line_percent_change201419\n",
    "\n"
   ]
  },
  {
   "cell_type": "code",
   "execution_count": 280,
   "metadata": {},
   "outputs": [
    {
     "data": {
      "text/plain": [
       "<Figure size 360x360 with 0 Axes>"
      ]
     },
     "metadata": {},
     "output_type": "display_data"
    },
    {
     "data": {
      "image/png": "[encoded data removed]",
      "text/plain": [
       "<Figure size 432x288 with 1 Axes>"
      ]
     },
     "metadata": {
      "needs_background": "light"
     },
     "output_type": "display_data"
    }
   ],
   "source": [
    "# Bar plot of the percent change in Green Line Ridership from 2014 to 2019\n",
    "\n",
    "plt.figure(figsize = (5,5))\n",
    "\n",
    "ax = green_line_percent_change201419.plot(kind = 'bar', y = ['percent_change_2014_2019'])\n",
    "ax.set_xlabel('Green Line L - Ridership')\n",
    "ax.set_ylabel('Percent Diff in Ridership')\n",
    "ax.set_title(\"Percent Diff in Green Line Ridership from 2014 to 2019\", size = 14)\n",
    "plt.ylim(-8.7,6,2)\n",
    "plt.legend(bbox_to_anchor=(0.6, 1),borderaxespad=0)\n",
    "plt.setp( ax.xaxis.get_majorticklabels(), rotation= 360 )\n",
    "plt.legend(bbox_to_anchor=(1.6, 1),borderaxespad=0)\n",
    "\n",
    "\n",
    "for p in ax.patches:\n",
    "    n = '{:.1f}%'.format(p.get_height())\n",
    "    x = p.get_x() + p.get_width() - 0.32    \n",
    "    y = p.get_y() + p.get_height()/2\n",
    "    ax.annotate(n, (x,y), size = 14, color = 'black')\n",
    "    \n",
    "plt.show()"
   ]
  },
  {
   "cell_type": "markdown",
   "metadata": {},
   "source": [
    "#### Brown Line:"
   ]
  },
  {
   "cell_type": "code",
   "execution_count": 272,
   "metadata": {},
   "outputs": [
    {
     "data": {
      "text/html": [
       "<div>\n",
       "<style scoped>\n",
       "    .dataframe tbody tr th:only-of-type {\n",
       "        vertical-align: middle;\n",
       "    }\n",
       "\n",
       "    .dataframe tbody tr th {\n",
       "        vertical-align: top;\n",
       "    }\n",
       "\n",
       "    .dataframe thead th {\n",
       "        text-align: right;\n",
       "    }\n",
       "</style>\n",
       "<table border=\"1\" class=\"dataframe\">\n",
       "  <thead>\n",
       "    <tr style=\"text-align: right;\">\n",
       "      <th>year</th>\n",
       "      <th>2014</th>\n",
       "      <th>2019</th>\n",
       "      <th>percent_change_2014_2019</th>\n",
       "    </tr>\n",
       "  </thead>\n",
       "  <tbody>\n",
       "    <tr>\n",
       "      <th>monthtotal</th>\n",
       "      <td>43862839</td>\n",
       "      <td>41297468</td>\n",
       "      <td>-5.848621</td>\n",
       "    </tr>\n",
       "  </tbody>\n",
       "</table>\n",
       "</div>"
      ],
      "text/plain": [
       "year            2014      2019  percent_change_2014_2019\n",
       "monthtotal  43862839  41297468                 -5.848621"
      ]
     },
     "execution_count": 272,
     "metadata": {},
     "output_type": "execute_result"
    }
   ],
   "source": [
    "# Brown Line Ridership from 2014 to 2019\n",
    "\n",
    "merged_rides_blines201419 = merged_rides_lines[(merged_rides_lines['brn'] == True) & ((merged_rides_lines['year'] == 2014) | (merged_rides_lines['year'] == 2019))]\n",
    "merged_rides_brown_line = pd.DataFrame(merged_rides_blines201419.groupby(['year'])['monthtotal'].sum()).reset_index()\n",
    "\n",
    "brown_line_percent_change201419 = merged_rides_brown_line.pivot_table(columns = 'year', values = 'monthtotal')\n",
    "brown_line_percent_change201419['percent_change_2014_2019'] = 100 * (brown_line_percent_change201419[2019] - brown_line_percent_change201419[2014])/(brown_line_percent_change201419[2014])\n",
    "brown_line_percent_change201419\n",
    "\n"
   ]
  },
  {
   "cell_type": "code",
   "execution_count": 285,
   "metadata": {},
   "outputs": [
    {
     "data": {
      "text/plain": [
       "<Figure size 360x360 with 0 Axes>"
      ]
     },
     "metadata": {},
     "output_type": "display_data"
    },
    {
     "data": {
      "image/png": "[encoded data removed]",
      "text/plain": [
       "<Figure size 432x288 with 1 Axes>"
      ]
     },
     "metadata": {
      "needs_background": "light"
     },
     "output_type": "display_data"
    }
   ],
   "source": [
    "# Bar plot of the percent change in Brown Line Ridership from 2014 to 2019\n",
    "\n",
    "plt.figure(figsize = (5,5))\n",
    "\n",
    "ax = brown_line_percent_change201419.plot(kind = 'bar', y = ['percent_change_2014_2019'])\n",
    "ax.set_xlabel('Brown Line L - Ridership')\n",
    "ax.set_ylabel('Percent Diff in Ridership')\n",
    "ax.set_title(\"% Diff in Brown Line Ridership from 2014 to 2019\", size = 14)\n",
    "plt.ylim(-5.9,2)\n",
    "plt.legend(bbox_to_anchor=(0.6, 1),borderaxespad=0)\n",
    "plt.setp( ax.xaxis.get_majorticklabels(), rotation= 360 )\n",
    "plt.legend(bbox_to_anchor=(1.6, 1),borderaxespad=0)\n",
    "\n",
    "\n",
    "for p in ax.patches:\n",
    "    n = '{:.1f}%'.format(p.get_height())\n",
    "    x = p.get_x() + p.get_width() - 0.32    \n",
    "    y = p.get_y() + p.get_height()/2\n",
    "    ax.annotate(n, (x,y), size = 14, color = 'black')\n",
    "    \n",
    "plt.show()"
   ]
  },
  {
   "cell_type": "markdown",
   "metadata": {},
   "source": [
    "#### Purple Line:"
   ]
  },
  {
   "cell_type": "code",
   "execution_count": 271,
   "metadata": {},
   "outputs": [
    {
     "data": {
      "text/html": [
       "<div>\n",
       "<style scoped>\n",
       "    .dataframe tbody tr th:only-of-type {\n",
       "        vertical-align: middle;\n",
       "    }\n",
       "\n",
       "    .dataframe tbody tr th {\n",
       "        vertical-align: top;\n",
       "    }\n",
       "\n",
       "    .dataframe thead th {\n",
       "        text-align: right;\n",
       "    }\n",
       "</style>\n",
       "<table border=\"1\" class=\"dataframe\">\n",
       "  <thead>\n",
       "    <tr style=\"text-align: right;\">\n",
       "      <th>year</th>\n",
       "      <th>2014</th>\n",
       "      <th>2019</th>\n",
       "      <th>percent_change_2014_2019</th>\n",
       "    </tr>\n",
       "  </thead>\n",
       "  <tbody>\n",
       "    <tr>\n",
       "      <th>monthtotal</th>\n",
       "      <td>9725589</td>\n",
       "      <td>4660881</td>\n",
       "      <td>-52.076106</td>\n",
       "    </tr>\n",
       "  </tbody>\n",
       "</table>\n",
       "</div>"
      ],
      "text/plain": [
       "year           2014     2019  percent_change_2014_2019\n",
       "monthtotal  9725589  4660881                -52.076106"
      ]
     },
     "execution_count": 271,
     "metadata": {},
     "output_type": "execute_result"
    }
   ],
   "source": [
    "# Purple Line Ridership from 2014 to 2019\n",
    "\n",
    "merged_rides_plines201419 = merged_rides_lines[(merged_rides_lines['p'] == True) & ((merged_rides_lines['year'] == 2014) | (merged_rides_lines['year'] == 2019))]\n",
    "merged_rides_purple_line = pd.DataFrame(merged_rides_plines201419.groupby(['year'])['monthtotal'].sum()).reset_index()\n",
    "\n",
    "\n",
    "purple_line_percent_change201419 = merged_rides_purple_line.pivot_table(columns = 'year', values = 'monthtotal')\n",
    "purple_line_percent_change201419['percent_change_2014_2019'] = 100 * (purple_line_percent_change201419[2019] - purple_line_percent_change201419[2014])/(purple_line_percent_change201419[2014])\n",
    "purple_line_percent_change201419"
   ]
  },
  {
   "cell_type": "code",
   "execution_count": 286,
   "metadata": {},
   "outputs": [
    {
     "data": {
      "text/plain": [
       "<Figure size 360x360 with 0 Axes>"
      ]
     },
     "metadata": {},
     "output_type": "display_data"
    },
    {
     "data": {
      "image/png": "[encoded data removed]",
      "text/plain": [
       "<Figure size 432x288 with 1 Axes>"
      ]
     },
     "metadata": {
      "needs_background": "light"
     },
     "output_type": "display_data"
    }
   ],
   "source": [
    "# Bar plot of the percent change in Purple Line Ridership from 2014 to 2019\n",
    "\n",
    "plt.figure(figsize = (5,5))\n",
    "\n",
    "ax = purple_line_percent_change201419.plot(kind = 'bar', y = ['percent_change_2014_2019'])\n",
    "ax.set_xlabel('Purple Line L - Ridership')\n",
    "ax.set_ylabel(\"% Diff in  Ridership\")\n",
    "ax.set_title(\"% Diff in Purple Line Ridership from 2014 to 2019\", size = 14)\n",
    "plt.ylim(-53,2)\n",
    "plt.legend(bbox_to_anchor=(0.6, 1),borderaxespad=0)\n",
    "plt.setp( ax.xaxis.get_majorticklabels(), rotation= 360 )\n",
    "plt.legend(bbox_to_anchor=(1.6, 1),borderaxespad=0)\n",
    "\n",
    "\n",
    "for p in ax.patches:\n",
    "    n = '{:.1f}%'.format(p.get_height())\n",
    "    x = p.get_x() + p.get_width() - 0.32    \n",
    "    y = p.get_y() + p.get_height()/2\n",
    "    ax.annotate(n, (x,y), size = 14, color = 'black')\n",
    "    \n",
    "plt.show()"
   ]
  },
  {
   "cell_type": "markdown",
   "metadata": {},
   "source": [
    "#### Purple and Purple Express Line:"
   ]
  },
  {
   "cell_type": "code",
   "execution_count": 26,
   "metadata": {},
   "outputs": [
    {
     "data": {
      "text/html": [
       "<div>\n",
       "<style scoped>\n",
       "    .dataframe tbody tr th:only-of-type {\n",
       "        vertical-align: middle;\n",
       "    }\n",
       "\n",
       "    .dataframe tbody tr th {\n",
       "        vertical-align: top;\n",
       "    }\n",
       "\n",
       "    .dataframe thead th {\n",
       "        text-align: right;\n",
       "    }\n",
       "</style>\n",
       "<table border=\"1\" class=\"dataframe\">\n",
       "  <thead>\n",
       "    <tr style=\"text-align: right;\">\n",
       "      <th>year</th>\n",
       "      <th>2014</th>\n",
       "      <th>2019</th>\n",
       "      <th>percent_change_2014_2019</th>\n",
       "    </tr>\n",
       "  </thead>\n",
       "  <tbody>\n",
       "    <tr>\n",
       "      <th>monthtotal</th>\n",
       "      <td>29739719</td>\n",
       "      <td>23354207</td>\n",
       "      <td>-21.471326</td>\n",
       "    </tr>\n",
       "  </tbody>\n",
       "</table>\n",
       "</div>"
      ],
      "text/plain": [
       "year            2014      2019  percent_change_2014_2019\n",
       "monthtotal  29739719  23354207                -21.471326"
      ]
     },
     "execution_count": 26,
     "metadata": {},
     "output_type": "execute_result"
    }
   ],
   "source": [
    "# Purple and Purple Express Line Ridership from 2014 to 2019\n",
    "\n",
    "merged_rides_ppexplines201419 = merged_rides_lines[((merged_rides_lines['p'] == True) | (merged_rides_lines['pexp'] == True)) & ((merged_rides_lines['year'] == 2014) | (merged_rides_lines['year'] == 2019))]\n",
    "merged_rides_p_pexp__line = pd.DataFrame(merged_rides_ppexplines201419.groupby(['year'])['monthtotal'].sum())\n",
    "merged_rides_p_pexp__line.reset_index()\n",
    "\n",
    "ppexp_line_percent_change201419 = merged_rides_p_pexp__line.pivot_table(columns = 'year', values = 'monthtotal')\n",
    "ppexp_line_percent_change201419['percent_change_2014_2019'] = 100 * (ppexp_line_percent_change201419[2019] - ppexp_line_percent_change201419[2014])/(ppexp_line_percent_change201419[2014])\n",
    "ppexp_line_percent_change201419\n",
    "\n"
   ]
  },
  {
   "cell_type": "code",
   "execution_count": 287,
   "metadata": {},
   "outputs": [
    {
     "data": {
      "text/plain": [
       "<Figure size 360x360 with 0 Axes>"
      ]
     },
     "metadata": {},
     "output_type": "display_data"
    },
    {
     "data": {
      "image/png": "[encoded data removed]",
      "text/plain": [
       "<Figure size 432x288 with 1 Axes>"
      ]
     },
     "metadata": {
      "needs_background": "light"
     },
     "output_type": "display_data"
    }
   ],
   "source": [
    "# Bar plot of the percent change in Purple and Purple Express Combined Line Ridership from 2014 to 2019\n",
    "\n",
    "plt.figure(figsize = (5,5))\n",
    "\n",
    "ax = ppexp_line_percent_change201419.plot(kind = 'bar', y = ['percent_change_2014_2019'])\n",
    "ax.set_xlabel('Purple and PExp Line L - Ridership')\n",
    "ax.set_ylabel(\"% Diff in Ridership\", size = 14)\n",
    "ax.set_title(\"% Diff in Purple/PExp Ridership from 2014 to 2019\", size = 14)\n",
    "plt.ylim(-22,2)\n",
    "plt.legend(bbox_to_anchor=(0.6, 1),borderaxespad=0)\n",
    "plt.setp( ax.xaxis.get_majorticklabels(), rotation= 360 )\n",
    "plt.legend(bbox_to_anchor=(1.6, 1),borderaxespad=0)\n",
    "\n",
    "\n",
    "for p in ax.patches:\n",
    "    n = '{:.1f}%'.format(p.get_height())\n",
    "    x = p.get_x() + p.get_width() - 0.32    \n",
    "    y = p.get_y() + p.get_height()/2\n",
    "    ax.annotate(n, (x,y), size = 14, color = 'black')\n",
    "    \n",
    "plt.show()"
   ]
  },
  {
   "cell_type": "markdown",
   "metadata": {},
   "source": [
    "#### Yellow Line:"
   ]
  },
  {
   "cell_type": "code",
   "execution_count": 288,
   "metadata": {},
   "outputs": [
    {
     "data": {
      "text/html": [
       "<div>\n",
       "<style scoped>\n",
       "    .dataframe tbody tr th:only-of-type {\n",
       "        vertical-align: middle;\n",
       "    }\n",
       "\n",
       "    .dataframe tbody tr th {\n",
       "        vertical-align: top;\n",
       "    }\n",
       "\n",
       "    .dataframe thead th {\n",
       "        text-align: right;\n",
       "    }\n",
       "</style>\n",
       "<table border=\"1\" class=\"dataframe\">\n",
       "  <thead>\n",
       "    <tr style=\"text-align: right;\">\n",
       "      <th>year</th>\n",
       "      <th>2014</th>\n",
       "      <th>2019</th>\n",
       "      <th>percent_change_2014_2019</th>\n",
       "    </tr>\n",
       "  </thead>\n",
       "  <tbody>\n",
       "    <tr>\n",
       "      <th>monthtotal</th>\n",
       "      <td>3030198</td>\n",
       "      <td>2483102</td>\n",
       "      <td>-18.054794</td>\n",
       "    </tr>\n",
       "  </tbody>\n",
       "</table>\n",
       "</div>"
      ],
      "text/plain": [
       "year           2014     2019  percent_change_2014_2019\n",
       "monthtotal  3030198  2483102                -18.054794"
      ]
     },
     "execution_count": 288,
     "metadata": {},
     "output_type": "execute_result"
    }
   ],
   "source": [
    "# Yellow Line Ridership from 2014 to 2019\n",
    "\n",
    "merged_rides_ylines201419 = merged_rides_lines[(merged_rides_lines['y'] == True) & ((merged_rides_lines['year'] == 2014) | (merged_rides_lines['year'] == 2019))]\n",
    "merged_rides_yellow_line = pd.DataFrame(merged_rides_ylines201419.groupby(['year'])['monthtotal'].sum()).reset_index()\n",
    "\n",
    "\n",
    "yellow_line_percent_change201419 = merged_rides_yellow_line.pivot_table(columns = 'year', values = 'monthtotal')\n",
    "yellow_line_percent_change201419['percent_change_2014_2019'] = 100 * (yellow_line_percent_change201419[2019] - yellow_line_percent_change201419[2014])/(yellow_line_percent_change201419[2014])\n",
    "yellow_line_percent_change201419\n",
    "\n"
   ]
  },
  {
   "cell_type": "code",
   "execution_count": 289,
   "metadata": {},
   "outputs": [
    {
     "data": {
      "text/plain": [
       "<Figure size 360x360 with 0 Axes>"
      ]
     },
     "metadata": {},
     "output_type": "display_data"
    },
    {
     "data": {
      "image/png": "[encoded data removed]",
      "text/plain": [
       "<Figure size 432x288 with 1 Axes>"
      ]
     },
     "metadata": {
      "needs_background": "light"
     },
     "output_type": "display_data"
    }
   ],
   "source": [
    "# Bar plot of the percent change in Yellow Line Ridership from 2014 to 2019\n",
    "\n",
    "plt.figure(figsize = (5,5))\n",
    "\n",
    "ax = yellow_line_percent_change201419.plot(kind = 'bar', y = ['percent_change_2014_2019'])\n",
    "ax.set_xlabel('Yellow Line L - Ridership')\n",
    "ax.set_ylabel(\"% Diff in Ridership\", size = 14)\n",
    "ax.set_title(\"% Diff in Yellow Line Ridership from 2014 to 2019\", size = 14)\n",
    "plt.ylim(-19,2)\n",
    "plt.legend(bbox_to_anchor=(0.6, 1),borderaxespad=0)\n",
    "plt.setp( ax.xaxis.get_majorticklabels(), rotation= 360 )\n",
    "plt.legend(bbox_to_anchor=(1.6, 1),borderaxespad=0)\n",
    "\n",
    "\n",
    "for p in ax.patches:\n",
    "    n = '{:.1f}%'.format(p.get_height())\n",
    "    x = p.get_x() + p.get_width() - 0.32    \n",
    "    y = p.get_y() + p.get_height()/2\n",
    "    ax.annotate(n, (x,y), size = 14, color = 'black')\n",
    "    \n",
    "plt.show()"
   ]
  },
  {
   "cell_type": "markdown",
   "metadata": {},
   "source": [
    "#### Orange Line:"
   ]
  },
  {
   "cell_type": "code",
   "execution_count": 290,
   "metadata": {},
   "outputs": [
    {
     "data": {
      "text/html": [
       "<div>\n",
       "<style scoped>\n",
       "    .dataframe tbody tr th:only-of-type {\n",
       "        vertical-align: middle;\n",
       "    }\n",
       "\n",
       "    .dataframe tbody tr th {\n",
       "        vertical-align: top;\n",
       "    }\n",
       "\n",
       "    .dataframe thead th {\n",
       "        text-align: right;\n",
       "    }\n",
       "</style>\n",
       "<table border=\"1\" class=\"dataframe\">\n",
       "  <thead>\n",
       "    <tr style=\"text-align: right;\">\n",
       "      <th>year</th>\n",
       "      <th>2014</th>\n",
       "      <th>2019</th>\n",
       "      <th>percent_change_2014_2019</th>\n",
       "    </tr>\n",
       "  </thead>\n",
       "  <tbody>\n",
       "    <tr>\n",
       "      <th>monthtotal</th>\n",
       "      <td>13281434</td>\n",
       "      <td>8182401</td>\n",
       "      <td>-38.392187</td>\n",
       "    </tr>\n",
       "  </tbody>\n",
       "</table>\n",
       "</div>"
      ],
      "text/plain": [
       "year            2014     2019  percent_change_2014_2019\n",
       "monthtotal  13281434  8182401                -38.392187"
      ]
     },
     "execution_count": 290,
     "metadata": {},
     "output_type": "execute_result"
    }
   ],
   "source": [
    "# Orange Line Ridership from 2014 to 2019\n",
    "\n",
    "merged_rides_olines201419 = merged_rides_lines[(merged_rides_lines['o'] == True) & ((merged_rides_lines['year'] == 2014) | (merged_rides_lines['year'] == 2019))]\n",
    "merged_rides_orange_line = pd.DataFrame(merged_rides_olines201419.groupby(['year'])['monthtotal'].sum()).reset_index()\n",
    "\n",
    "orange_line_percent_change201419 = merged_rides_orange_line.pivot_table(columns = 'year', values = 'monthtotal')\n",
    "orange_line_percent_change201419['percent_change_2014_2019'] = 100 * (orange_line_percent_change201419[2019] - orange_line_percent_change201419[2014])/(orange_line_percent_change201419[2014])\n",
    "orange_line_percent_change201419\n"
   ]
  },
  {
   "cell_type": "code",
   "execution_count": 291,
   "metadata": {},
   "outputs": [
    {
     "data": {
      "text/plain": [
       "<Figure size 360x360 with 0 Axes>"
      ]
     },
     "metadata": {},
     "output_type": "display_data"
    },
    {
     "data": {
      "image/png": "[encoded data removed]",
      "text/plain": [
       "<Figure size 432x288 with 1 Axes>"
      ]
     },
     "metadata": {
      "needs_background": "light"
     },
     "output_type": "display_data"
    }
   ],
   "source": [
    "# Bar plot of the percent change in Orange Line Ridership from 2014 to 2019\n",
    "\n",
    "plt.figure(figsize = (5,5))\n",
    "\n",
    "ax = orange_line_percent_change201419.plot(kind = 'bar', y = ['percent_change_2014_2019'])\n",
    "ax.set_xlabel('Orange Line L - Ridership')\n",
    "ax.set_ylabel(\"% Diff in Ridership\", size = 14)\n",
    "ax.set_title(\"% Diff in Orange Line Ridership from 2014 to 2019\", size = 14)\n",
    "plt.ylim(-39,2)\n",
    "plt.legend(bbox_to_anchor=(0.6, 1),borderaxespad=0)\n",
    "plt.setp( ax.xaxis.get_majorticklabels(), rotation= 360 )\n",
    "plt.legend(bbox_to_anchor=(1.6, 1),borderaxespad=0)\n",
    "\n",
    "\n",
    "for p in ax.patches:\n",
    "    n = '{:.1f}%'.format(p.get_height())\n",
    "    x = p.get_x() + p.get_width() - 0.32    \n",
    "    y = p.get_y() + p.get_height()/2\n",
    "    ax.annotate(n, (x,y), size = 14, color = 'black')\n",
    "    \n",
    "plt.show()"
   ]
  },
  {
   "cell_type": "markdown",
   "metadata": {},
   "source": [
    "#### Pink Line:"
   ]
  },
  {
   "cell_type": "code",
   "execution_count": 292,
   "metadata": {},
   "outputs": [
    {
     "data": {
      "text/html": [
       "<div>\n",
       "<style scoped>\n",
       "    .dataframe tbody tr th:only-of-type {\n",
       "        vertical-align: middle;\n",
       "    }\n",
       "\n",
       "    .dataframe tbody tr th {\n",
       "        vertical-align: top;\n",
       "    }\n",
       "\n",
       "    .dataframe thead th {\n",
       "        text-align: right;\n",
       "    }\n",
       "</style>\n",
       "<table border=\"1\" class=\"dataframe\">\n",
       "  <thead>\n",
       "    <tr style=\"text-align: right;\">\n",
       "      <th>year</th>\n",
       "      <th>2014</th>\n",
       "      <th>2019</th>\n",
       "      <th>percent_change_2014_2019</th>\n",
       "    </tr>\n",
       "  </thead>\n",
       "  <tbody>\n",
       "    <tr>\n",
       "      <th>monthtotal</th>\n",
       "      <td>12491376</td>\n",
       "      <td>7923645</td>\n",
       "      <td>-36.567076</td>\n",
       "    </tr>\n",
       "  </tbody>\n",
       "</table>\n",
       "</div>"
      ],
      "text/plain": [
       "year            2014     2019  percent_change_2014_2019\n",
       "monthtotal  12491376  7923645                -36.567076"
      ]
     },
     "execution_count": 292,
     "metadata": {},
     "output_type": "execute_result"
    }
   ],
   "source": [
    "# Pink Line Ridership from 2014 to 2019\n",
    "\n",
    "merged_rides_pnklines201419 = merged_rides_lines[(merged_rides_lines['pnk'] == True) & ((merged_rides_lines['year'] == 2014) | (merged_rides_lines['year'] == 2019))]\n",
    "merged_rides_pink_line = pd.DataFrame(merged_rides_pnklines201419.groupby(['year'])['monthtotal'].sum()).reset_index()\n",
    "\n",
    "pink_line_percent_change201419 = merged_rides_pink_line.pivot_table(columns = 'year', values = 'monthtotal')\n",
    "pink_line_percent_change201419['percent_change_2014_2019'] = 100 * (pink_line_percent_change201419[2019] - pink_line_percent_change201419[2014])/(pink_line_percent_change201419[2014])\n",
    "pink_line_percent_change201419"
   ]
  },
  {
   "cell_type": "code",
   "execution_count": 293,
   "metadata": {},
   "outputs": [
    {
     "data": {
      "text/plain": [
       "<Figure size 360x360 with 0 Axes>"
      ]
     },
     "metadata": {},
     "output_type": "display_data"
    },
    {
     "data": {
      "image/png": "[encoded data removed]",
      "text/plain": [
       "<Figure size 432x288 with 1 Axes>"
      ]
     },
     "metadata": {
      "needs_background": "light"
     },
     "output_type": "display_data"
    }
   ],
   "source": [
    "# Bar plot of the percent change in Pink Line Ridership from 2014 to 2019\n",
    "\n",
    "plt.figure(figsize = (5,5))\n",
    "\n",
    "ax = pink_line_percent_change201419.plot(kind = 'bar', y = ['percent_change_2014_2019'])\n",
    "ax.set_xlabel('Pink Line L - Ridership')\n",
    "ax.set_ylabel(\"% Diff in Ridership\")\n",
    "ax.set_title(\"% Diff in Pink Line Ridership from 2014 to 2019\", size = 14)\n",
    "plt.ylim(-37,2)\n",
    "plt.legend(bbox_to_anchor=(0.6, 1),borderaxespad=0)\n",
    "plt.setp( ax.xaxis.get_majorticklabels(), rotation= 360 )\n",
    "plt.legend(bbox_to_anchor=(1.6, 1),borderaxespad=0)\n",
    "\n",
    "\n",
    "for p in ax.patches:\n",
    "    n = '{:.1f}%'.format(p.get_height())\n",
    "    x = p.get_x() + p.get_width() - 0.32    \n",
    "    y = p.get_y() + p.get_height()/2\n",
    "    ax.annotate(n, (x,y), size = 14, color = 'black')\n",
    "    \n",
    "plt.show()"
   ]
  },
  {
   "cell_type": "markdown",
   "metadata": {},
   "source": [
    "### Assess if there was a similar decline in the ridership specifically in the loop\n",
    "### Ridership in the Chicago Loop CTA L- Stations increased by 8.4%"
   ]
  },
  {
   "cell_type": "code",
   "execution_count": 322,
   "metadata": {},
   "outputs": [
    {
     "data": {
      "text/html": [
       "<div>\n",
       "<style scoped>\n",
       "    .dataframe tbody tr th:only-of-type {\n",
       "        vertical-align: middle;\n",
       "    }\n",
       "\n",
       "    .dataframe tbody tr th {\n",
       "        vertical-align: top;\n",
       "    }\n",
       "\n",
       "    .dataframe thead th {\n",
       "        text-align: right;\n",
       "    }\n",
       "</style>\n",
       "<table border=\"1\" class=\"dataframe\">\n",
       "  <thead>\n",
       "    <tr style=\"text-align: right;\">\n",
       "      <th>year</th>\n",
       "      <th>2014</th>\n",
       "      <th>2019</th>\n",
       "      <th>percent_change_2014_2019</th>\n",
       "    </tr>\n",
       "  </thead>\n",
       "  <tbody>\n",
       "    <tr>\n",
       "      <th>monthtotal</th>\n",
       "      <td>41346707</td>\n",
       "      <td>44813823</td>\n",
       "      <td>8.385471</td>\n",
       "    </tr>\n",
       "  </tbody>\n",
       "</table>\n",
       "</div>"
      ],
      "text/plain": [
       "year            2014      2019  percent_change_2014_2019\n",
       "monthtotal  41346707  44813823                  8.385471"
      ]
     },
     "execution_count": 322,
     "metadata": {},
     "output_type": "execute_result"
    }
   ],
   "source": [
    "# These are the 16 Loop Stations:\n",
    "# Clark/Lake,\n",
    "# State/Lake, \n",
    "# Lake/State\n",
    "# Monroe/State\n",
    "# Jackson/State\n",
    "# Adams/Wabash\n",
    "# Harrison\n",
    "# LaSalle\n",
    "# LaSalle/Van Buren\n",
    "# Quincy/Wells\n",
    "# Merchandise Mart\n",
    "# Monroe/Dearborn\n",
    "# Jackson/Dearborn\n",
    "# Washington/Dearborn\n",
    "# Washington/Wells\n",
    "# Washington/Wabash\n",
    "\n",
    "# Group the data by stations and year and get the monthtotals for each station by year. \n",
    "\n",
    "cta_l_stations = merged_rides_lines.groupby([\"stationame\", \"year\"]).sum()\n",
    "cta_l_stations.sort_values(ascending=False, by=\"monthtotal\", inplace=True)\n",
    "\n",
    "# Create a pivot table of the stations and the monthtotals for 2014 and 2019\n",
    "\n",
    "l_stations_2014_19 = pd.pivot_table(data = cta_l_stations, index=[\"stationame\", \"year\"], values=[\"monthtotal\"])\n",
    "\n",
    "# Select only the Loop Stations (16 stations)\n",
    "\n",
    "loop_stations_2014_2019 = l_stations_2014_19.query('year == [2014, 2019] and stationame == [\"Clark/Lake\", \"State/Lake\", \"Lake/State\", \"Monroe/State\", \"Jackson/State\", \"Adams/Wabash\", \"Harrison\", \"LaSalle\", \"LaSalle/Van Buren\", \"Quincy/Wells\",\"Merchandise Mart\", \"Monroe/Dearborn\", \"Jackson/Dearborn\", \"Washington/Dearborn\", \"Washington/Wells\", \"Washington/Wabash\"]').reset_index()\n",
    "loop_stations_2014_19 = pd.pivot_table(data = loop_stations_2014_2019, index = 'stationame', columns = 'year', values = 'monthtotal').reset_index()\n",
    "\n",
    "# Combined Loop ridership percent change in ridership from 2014 to 2019\n",
    "\n",
    "combined_data = pd.DataFrame(loop_stations_2014_2019.groupby(['year'])['monthtotal', ].sum()).reset_index()\n",
    "\n",
    "# Create a Pivot Table\n",
    "\n",
    "combined_data_loop = combined_data.pivot_table(columns = 'year', values = 'monthtotal')\n",
    "combined_data_loop['percent_change_2014_2019'] = 100 * (combined_data_loop[2019] - combined_data_loop[2014])/(combined_data_loop[2014])\n",
    "combined_data_loop"
   ]
  },
  {
   "cell_type": "code",
   "execution_count": 323,
   "metadata": {},
   "outputs": [
    {
     "data": {
      "text/plain": [
       "<Figure size 360x360 with 0 Axes>"
      ]
     },
     "metadata": {},
     "output_type": "display_data"
    },
    {
     "data": {
      "image/png": "[encoded data removed]",
      "text/plain": [
       "<Figure size 432x288 with 1 Axes>"
      ]
     },
     "metadata": {
      "needs_background": "light"
     },
     "output_type": "display_data"
    }
   ],
   "source": [
    "# Bar plot of the percent change in L- Loop Stations Ridership from 2014 to 2019\n",
    "\n",
    "plt.figure(figsize = (5,5))\n",
    "\n",
    "ax = combined_data_loop.plot(kind = 'bar', y = ['percent_change_2014_2019'])\n",
    "ax.set_xlabel('Loop L - Ridership')\n",
    "ax.set_ylabel(\"% Diff in Ridership\")\n",
    "ax.set_title(\"% Diff in Loop Stations Ridership from 2014 to 2019\", size = 14)\n",
    "plt.ylim(0,9)\n",
    "plt.legend(bbox_to_anchor=(0.6, 1),borderaxespad=0)\n",
    "plt.setp( ax.xaxis.get_majorticklabels(), rotation= 360 )\n",
    "plt.legend(bbox_to_anchor=(1.6, 1),borderaxespad=0)\n",
    "\n",
    "\n",
    "for p in ax.patches:\n",
    "    n = '{:.1f}%'.format(p.get_height())\n",
    "    x = p.get_x() + p.get_width() - 0.32    \n",
    "    y = p.get_y() + p.get_height()/2\n",
    "    ax.annotate(n, (x,y), size = 14, color = 'black')\n",
    "    \n",
    "plt.show()"
   ]
  },
  {
   "cell_type": "markdown",
   "metadata": {},
   "source": [
    "#### Percent change in ridership at each of the loop stations.\n",
    "#### Largest increase was seen at State/Lake and Washington/Dearborn (22.3%, 21.71%)\n",
    "#### Washington/Wabash was newly created after 2014 so there is no data for 2014.\n"
   ]
  },
  {
   "cell_type": "code",
   "execution_count": 297,
   "metadata": {},
   "outputs": [
    {
     "data": {
      "text/html": [
       "<div>\n",
       "<style scoped>\n",
       "    .dataframe tbody tr th:only-of-type {\n",
       "        vertical-align: middle;\n",
       "    }\n",
       "\n",
       "    .dataframe tbody tr th {\n",
       "        vertical-align: top;\n",
       "    }\n",
       "\n",
       "    .dataframe thead th {\n",
       "        text-align: right;\n",
       "    }\n",
       "</style>\n",
       "<table border=\"1\" class=\"dataframe\">\n",
       "  <thead>\n",
       "    <tr style=\"text-align: right;\">\n",
       "      <th>year</th>\n",
       "      <th>stationame</th>\n",
       "      <th>2014</th>\n",
       "      <th>2019</th>\n",
       "      <th>percent_change_2014_2019</th>\n",
       "    </tr>\n",
       "  </thead>\n",
       "  <tbody>\n",
       "    <tr>\n",
       "      <th>12</th>\n",
       "      <td>State/Lake</td>\n",
       "      <td>3092206.0</td>\n",
       "      <td>3783187.0</td>\n",
       "      <td>22.345892</td>\n",
       "    </tr>\n",
       "    <tr>\n",
       "      <th>13</th>\n",
       "      <td>Washington/Dearborn</td>\n",
       "      <td>3431799.0</td>\n",
       "      <td>4176948.0</td>\n",
       "      <td>21.713072</td>\n",
       "    </tr>\n",
       "    <tr>\n",
       "      <th>15</th>\n",
       "      <td>Washington/Wells</td>\n",
       "      <td>2063759.0</td>\n",
       "      <td>2214522.0</td>\n",
       "      <td>7.305262</td>\n",
       "    </tr>\n",
       "    <tr>\n",
       "      <th>9</th>\n",
       "      <td>Monroe/Dearborn</td>\n",
       "      <td>2114139.0</td>\n",
       "      <td>2268194.0</td>\n",
       "      <td>7.286891</td>\n",
       "    </tr>\n",
       "    <tr>\n",
       "      <th>8</th>\n",
       "      <td>Merchandise Mart</td>\n",
       "      <td>2100263.0</td>\n",
       "      <td>2237817.0</td>\n",
       "      <td>6.549370</td>\n",
       "    </tr>\n",
       "    <tr>\n",
       "      <th>1</th>\n",
       "      <td>Clark/Lake</td>\n",
       "      <td>5573235.0</td>\n",
       "      <td>5830767.0</td>\n",
       "      <td>4.620871</td>\n",
       "    </tr>\n",
       "    <tr>\n",
       "      <th>6</th>\n",
       "      <td>LaSalle/Van Buren</td>\n",
       "      <td>820987.0</td>\n",
       "      <td>830063.0</td>\n",
       "      <td>1.105499</td>\n",
       "    </tr>\n",
       "    <tr>\n",
       "      <th>7</th>\n",
       "      <td>Lake/State</td>\n",
       "      <td>6536922.0</td>\n",
       "      <td>6450839.0</td>\n",
       "      <td>-1.316874</td>\n",
       "    </tr>\n",
       "    <tr>\n",
       "      <th>0</th>\n",
       "      <td>Adams/Wabash</td>\n",
       "      <td>2131441.0</td>\n",
       "      <td>2087483.0</td>\n",
       "      <td>-2.062361</td>\n",
       "    </tr>\n",
       "    <tr>\n",
       "      <th>5</th>\n",
       "      <td>LaSalle</td>\n",
       "      <td>907789.0</td>\n",
       "      <td>873340.0</td>\n",
       "      <td>-3.794825</td>\n",
       "    </tr>\n",
       "    <tr>\n",
       "      <th>11</th>\n",
       "      <td>Quincy/Wells</td>\n",
       "      <td>2288353.0</td>\n",
       "      <td>2188354.0</td>\n",
       "      <td>-4.369911</td>\n",
       "    </tr>\n",
       "    <tr>\n",
       "      <th>10</th>\n",
       "      <td>Monroe/State</td>\n",
       "      <td>3218135.0</td>\n",
       "      <td>2900809.0</td>\n",
       "      <td>-9.860556</td>\n",
       "    </tr>\n",
       "    <tr>\n",
       "      <th>2</th>\n",
       "      <td>Harrison</td>\n",
       "      <td>1348807.0</td>\n",
       "      <td>1212514.0</td>\n",
       "      <td>-10.104707</td>\n",
       "    </tr>\n",
       "    <tr>\n",
       "      <th>3</th>\n",
       "      <td>Jackson/Dearborn</td>\n",
       "      <td>2357552.0</td>\n",
       "      <td>2031329.0</td>\n",
       "      <td>-13.837362</td>\n",
       "    </tr>\n",
       "    <tr>\n",
       "      <th>4</th>\n",
       "      <td>Jackson/State</td>\n",
       "      <td>3361320.0</td>\n",
       "      <td>2601587.0</td>\n",
       "      <td>-22.602222</td>\n",
       "    </tr>\n",
       "    <tr>\n",
       "      <th>14</th>\n",
       "      <td>Washington/Wabash</td>\n",
       "      <td>NaN</td>\n",
       "      <td>3126070.0</td>\n",
       "      <td>NaN</td>\n",
       "    </tr>\n",
       "  </tbody>\n",
       "</table>\n",
       "</div>"
      ],
      "text/plain": [
       "year           stationame       2014       2019  percent_change_2014_2019\n",
       "12             State/Lake  3092206.0  3783187.0                 22.345892\n",
       "13    Washington/Dearborn  3431799.0  4176948.0                 21.713072\n",
       "15       Washington/Wells  2063759.0  2214522.0                  7.305262\n",
       "9         Monroe/Dearborn  2114139.0  2268194.0                  7.286891\n",
       "8        Merchandise Mart  2100263.0  2237817.0                  6.549370\n",
       "1              Clark/Lake  5573235.0  5830767.0                  4.620871\n",
       "6       LaSalle/Van Buren   820987.0   830063.0                  1.105499\n",
       "7              Lake/State  6536922.0  6450839.0                 -1.316874\n",
       "0            Adams/Wabash  2131441.0  2087483.0                 -2.062361\n",
       "5                 LaSalle   907789.0   873340.0                 -3.794825\n",
       "11           Quincy/Wells  2288353.0  2188354.0                 -4.369911\n",
       "10           Monroe/State  3218135.0  2900809.0                 -9.860556\n",
       "2                Harrison  1348807.0  1212514.0                -10.104707\n",
       "3        Jackson/Dearborn  2357552.0  2031329.0                -13.837362\n",
       "4           Jackson/State  3361320.0  2601587.0                -22.602222\n",
       "14      Washington/Wabash        NaN  3126070.0                       NaN"
      ]
     },
     "execution_count": 297,
     "metadata": {},
     "output_type": "execute_result"
    }
   ],
   "source": [
    "# Calculate the percent change in ridership from 2014 to 2019 for each of the stations\n",
    "\n",
    "loop_stations_2014_19['percent_change_2014_2019'] = 100 * (loop_stations_2014_19[2019] - loop_stations_2014_19[2014])/loop_stations_2014_19[2014]\n",
    "loop_stations_2014_19.sort_values(by = 'percent_change_2014_2019', ascending = False, inplace = True)\n",
    "loop_stations_2014_19"
   ]
  },
  {
   "cell_type": "markdown",
   "metadata": {},
   "source": [
    "### CCA Loop & surrounding areas population trend analysis"
   ]
  },
  {
   "cell_type": "code",
   "execution_count": 298,
   "metadata": {},
   "outputs": [
    {
     "data": {
      "text/html": [
       "<div>\n",
       "<style scoped>\n",
       "    .dataframe tbody tr th:only-of-type {\n",
       "        vertical-align: middle;\n",
       "    }\n",
       "\n",
       "    .dataframe tbody tr th {\n",
       "        vertical-align: top;\n",
       "    }\n",
       "\n",
       "    .dataframe thead th {\n",
       "        text-align: right;\n",
       "    }\n",
       "</style>\n",
       "<table border=\"1\" class=\"dataframe\">\n",
       "  <thead>\n",
       "    <tr style=\"text-align: right;\">\n",
       "      <th></th>\n",
       "      <th>GEOG</th>\n",
       "      <th>chi_community_areas</th>\n",
       "      <th>2000_POP</th>\n",
       "      <th>2010_POP</th>\n",
       "      <th>TOT_POP</th>\n",
       "      <th>UND19</th>\n",
       "      <th>A20_34</th>\n",
       "      <th>A35_49</th>\n",
       "      <th>A50_64</th>\n",
       "      <th>A65_74</th>\n",
       "      <th>...</th>\n",
       "      <th>highly_walkable_pop_pct</th>\n",
       "      <th>highly_walkable_emp_pct</th>\n",
       "      <th>assoc_plus_pct</th>\n",
       "      <th>in_lbr_frc_pct</th>\n",
       "      <th>pct_pop_access_4_acres_per_1k</th>\n",
       "      <th>pct_pop_access_10_acres_per_1k</th>\n",
       "      <th>impervious_acres_per_hh</th>\n",
       "      <th>modhigh_ta_pop_pct</th>\n",
       "      <th>modhigh_ta_emp_pct</th>\n",
       "      <th>nonsov_pct</th>\n",
       "    </tr>\n",
       "  </thead>\n",
       "  <tbody>\n",
       "    <tr>\n",
       "      <th>59</th>\n",
       "      <td>Rogers Park</td>\n",
       "      <td>1</td>\n",
       "      <td>63484</td>\n",
       "      <td>54991</td>\n",
       "      <td>55062</td>\n",
       "      <td>11632</td>\n",
       "      <td>17116</td>\n",
       "      <td>12560</td>\n",
       "      <td>8945</td>\n",
       "      <td>2757</td>\n",
       "      <td>...</td>\n",
       "      <td>1.000000</td>\n",
       "      <td>1.00000</td>\n",
       "      <td>0.470011</td>\n",
       "      <td>0.794076</td>\n",
       "      <td>0.000000</td>\n",
       "      <td>0.0</td>\n",
       "      <td>0.033327</td>\n",
       "      <td>1.0</td>\n",
       "      <td>1.0</td>\n",
       "      <td>0.629223</td>\n",
       "    </tr>\n",
       "    <tr>\n",
       "      <th>74</th>\n",
       "      <td>West Ridge</td>\n",
       "      <td>2</td>\n",
       "      <td>73199</td>\n",
       "      <td>71942</td>\n",
       "      <td>76215</td>\n",
       "      <td>20756</td>\n",
       "      <td>17065</td>\n",
       "      <td>15001</td>\n",
       "      <td>13648</td>\n",
       "      <td>5461</td>\n",
       "      <td>...</td>\n",
       "      <td>1.000000</td>\n",
       "      <td>1.00000</td>\n",
       "      <td>0.451531</td>\n",
       "      <td>0.771930</td>\n",
       "      <td>0.193019</td>\n",
       "      <td>0.0</td>\n",
       "      <td>0.052765</td>\n",
       "      <td>1.0</td>\n",
       "      <td>1.0</td>\n",
       "      <td>0.397698</td>\n",
       "    </tr>\n",
       "    <tr>\n",
       "      <th>66</th>\n",
       "      <td>Uptown</td>\n",
       "      <td>3</td>\n",
       "      <td>63551</td>\n",
       "      <td>56362</td>\n",
       "      <td>57973</td>\n",
       "      <td>7430</td>\n",
       "      <td>19857</td>\n",
       "      <td>13238</td>\n",
       "      <td>10339</td>\n",
       "      <td>3723</td>\n",
       "      <td>...</td>\n",
       "      <td>0.999962</td>\n",
       "      <td>0.89758</td>\n",
       "      <td>0.608137</td>\n",
       "      <td>0.818575</td>\n",
       "      <td>0.656498</td>\n",
       "      <td>0.0</td>\n",
       "      <td>0.030167</td>\n",
       "      <td>1.0</td>\n",
       "      <td>1.0</td>\n",
       "      <td>0.660165</td>\n",
       "    </tr>\n",
       "    <tr>\n",
       "      <th>39</th>\n",
       "      <td>Lincoln Square</td>\n",
       "      <td>4</td>\n",
       "      <td>44574</td>\n",
       "      <td>39493</td>\n",
       "      <td>41715</td>\n",
       "      <td>7356</td>\n",
       "      <td>13432</td>\n",
       "      <td>10428</td>\n",
       "      <td>6664</td>\n",
       "      <td>2179</td>\n",
       "      <td>...</td>\n",
       "      <td>1.000000</td>\n",
       "      <td>1.00000</td>\n",
       "      <td>0.671179</td>\n",
       "      <td>0.851232</td>\n",
       "      <td>0.000000</td>\n",
       "      <td>0.0</td>\n",
       "      <td>0.051369</td>\n",
       "      <td>1.0</td>\n",
       "      <td>1.0</td>\n",
       "      <td>0.551952</td>\n",
       "    </tr>\n",
       "    <tr>\n",
       "      <th>50</th>\n",
       "      <td>North Center</td>\n",
       "      <td>5</td>\n",
       "      <td>31895</td>\n",
       "      <td>31867</td>\n",
       "      <td>35789</td>\n",
       "      <td>8845</td>\n",
       "      <td>9902</td>\n",
       "      <td>9709</td>\n",
       "      <td>4375</td>\n",
       "      <td>1616</td>\n",
       "      <td>...</td>\n",
       "      <td>1.000000</td>\n",
       "      <td>1.00000</td>\n",
       "      <td>0.739185</td>\n",
       "      <td>0.899150</td>\n",
       "      <td>0.029571</td>\n",
       "      <td>0.0</td>\n",
       "      <td>0.060907</td>\n",
       "      <td>1.0</td>\n",
       "      <td>1.0</td>\n",
       "      <td>0.546646</td>\n",
       "    </tr>\n",
       "  </tbody>\n",
       "</table>\n",
       "<p>5 rows × 232 columns</p>\n",
       "</div>"
      ],
      "text/plain": [
       "              GEOG  chi_community_areas  2000_POP  2010_POP  TOT_POP  UND19  \\\n",
       "59     Rogers Park                    1     63484     54991    55062  11632   \n",
       "74      West Ridge                    2     73199     71942    76215  20756   \n",
       "66          Uptown                    3     63551     56362    57973   7430   \n",
       "39  Lincoln Square                    4     44574     39493    41715   7356   \n",
       "50    North Center                    5     31895     31867    35789   8845   \n",
       "\n",
       "    A20_34  A35_49  A50_64  A65_74  ...  highly_walkable_pop_pct  \\\n",
       "59   17116   12560    8945    2757  ...                 1.000000   \n",
       "74   17065   15001   13648    5461  ...                 1.000000   \n",
       "66   19857   13238   10339    3723  ...                 0.999962   \n",
       "39   13432   10428    6664    2179  ...                 1.000000   \n",
       "50    9902    9709    4375    1616  ...                 1.000000   \n",
       "\n",
       "    highly_walkable_emp_pct  assoc_plus_pct  in_lbr_frc_pct  \\\n",
       "59                  1.00000        0.470011        0.794076   \n",
       "74                  1.00000        0.451531        0.771930   \n",
       "66                  0.89758        0.608137        0.818575   \n",
       "39                  1.00000        0.671179        0.851232   \n",
       "50                  1.00000        0.739185        0.899150   \n",
       "\n",
       "    pct_pop_access_4_acres_per_1k  pct_pop_access_10_acres_per_1k  \\\n",
       "59                       0.000000                             0.0   \n",
       "74                       0.193019                             0.0   \n",
       "66                       0.656498                             0.0   \n",
       "39                       0.000000                             0.0   \n",
       "50                       0.029571                             0.0   \n",
       "\n",
       "    impervious_acres_per_hh  modhigh_ta_pop_pct  modhigh_ta_emp_pct  \\\n",
       "59                 0.033327                 1.0                 1.0   \n",
       "74                 0.052765                 1.0                 1.0   \n",
       "66                 0.030167                 1.0                 1.0   \n",
       "39                 0.051369                 1.0                 1.0   \n",
       "50                 0.060907                 1.0                 1.0   \n",
       "\n",
       "    nonsov_pct  \n",
       "59    0.629223  \n",
       "74    0.397698  \n",
       "66    0.660165  \n",
       "39    0.551952  \n",
       "50    0.546646  \n",
       "\n",
       "[5 rows x 232 columns]"
      ]
     },
     "execution_count": 298,
     "metadata": {},
     "output_type": "execute_result"
    }
   ],
   "source": [
    "ohare_midway_cca_census = pd.read_csv(\"/Users/shilpakamath-jha/Desktop/SKJhaPythonProjects/ReferenceCCAProfiles20132017mergedCCAcopy.csv\", sep = ',')\n",
    "ohare_midway_cca_census.sort_values(ascending=True, by=\"chi_community_areas\", inplace=True)\n",
    "ohare_midway_cca_census.head()"
   ]
  },
  {
   "cell_type": "markdown",
   "metadata": {},
   "source": [
    "### The Loop population increased by 22.5% from  2010 and 2017 "
   ]
  },
  {
   "cell_type": "code",
   "execution_count": 299,
   "metadata": {},
   "outputs": [
    {
     "data": {
      "text/html": [
       "<div>\n",
       "<style scoped>\n",
       "    .dataframe tbody tr th:only-of-type {\n",
       "        vertical-align: middle;\n",
       "    }\n",
       "\n",
       "    .dataframe tbody tr th {\n",
       "        vertical-align: top;\n",
       "    }\n",
       "\n",
       "    .dataframe thead th {\n",
       "        text-align: right;\n",
       "    }\n",
       "</style>\n",
       "<table border=\"1\" class=\"dataframe\">\n",
       "  <thead>\n",
       "    <tr style=\"text-align: right;\">\n",
       "      <th></th>\n",
       "      <th>chi_community_areas</th>\n",
       "      <th>GEOG</th>\n",
       "      <th>2000_POP</th>\n",
       "      <th>2010_POP</th>\n",
       "      <th>TOT_POP</th>\n",
       "      <th>percent_diff_2000_2010</th>\n",
       "      <th>percent_diff_2010_2017</th>\n",
       "    </tr>\n",
       "  </thead>\n",
       "  <tbody>\n",
       "    <tr>\n",
       "      <th>31</th>\n",
       "      <td>32</td>\n",
       "      <td>The Loop</td>\n",
       "      <td>16,388</td>\n",
       "      <td>29,283</td>\n",
       "      <td>35,880</td>\n",
       "      <td>78.685624</td>\n",
       "      <td>22.528429</td>\n",
       "    </tr>\n",
       "  </tbody>\n",
       "</table>\n",
       "</div>"
      ],
      "text/plain": [
       "    chi_community_areas      GEOG 2000_POP 2010_POP TOT_POP  \\\n",
       "31                   32  The Loop   16,388   29,283  35,880   \n",
       "\n",
       "    percent_diff_2000_2010  percent_diff_2010_2017  \n",
       "31               78.685624               22.528429  "
      ]
     },
     "execution_count": 299,
     "metadata": {},
     "output_type": "execute_result"
    }
   ],
   "source": [
    "# Loop Population change from 2000 to 2010 and from 2010 to 2017\n",
    "# CCA for The Loop is 32\n",
    "# CCA for Midway is 56 \n",
    "# TOT_POP stands for 2013-2017 data \n",
    "\n",
    "cca_data = pd.pivot_table(data = ohare_midway_cca_census, index = ['chi_community_areas','GEOG'], values=[\"2000_POP\", \"2010_POP\", \"TOT_POP\"]).reset_index()\n",
    "cca_data_32 = cca_data[cca_data['chi_community_areas'].isin([\"32\"])]\n",
    "cca_data_32\n",
    "\n",
    "# Calculate the percent change from 2000 to 2017 and 2010 to 2017\n",
    "\n",
    "cca_data_32['percent_diff_2000_2010'] = (cca_data_32['2010_POP'] - cca_data_32['2000_POP'])*100/cca_data_32['2000_POP']\n",
    "cca_data_32['percent_diff_2010_2017'] = (cca_data_32['TOT_POP']- cca_data_32['2010_POP'])*100/cca_data_32['2010_POP']\n",
    "cca_data_32\n",
    "\n",
    "\n",
    "\n",
    "# Format the 2000_pop, 2010_pop, tot_pop  values with commas to show numerical values clearly\n",
    "\n",
    "cca_data_32['2000_POP'] = cca_data_32['2000_POP'].apply(lambda x: '{:,}'.format(x))\n",
    "cca_data_32['2010_POP'] = cca_data_32['2010_POP'].apply(lambda x: '{:,}'.format(x))\n",
    "cca_data_32['TOT_POP'] = cca_data_32['TOT_POP'].apply(lambda x: '{:,}'.format(x))\n",
    "\n",
    "cca_data_32"
   ]
  },
  {
   "cell_type": "code",
   "execution_count": 301,
   "metadata": {},
   "outputs": [
    {
     "data": {
      "text/plain": [
       "<Figure size 720x576 with 0 Axes>"
      ]
     },
     "metadata": {},
     "output_type": "display_data"
    },
    {
     "data": {
      "image/png": "[encoded data removed]",
      "text/plain": [
       "<Figure size 432x288 with 1 Axes>"
      ]
     },
     "metadata": {
      "needs_background": "light"
     },
     "output_type": "display_data"
    }
   ],
   "source": [
    "# Bar plot of the percent change in loop population from 2014 to 2019\n",
    "\n",
    "plt.figure(figsize = (10,8))\n",
    "\n",
    "ax = cca_data_32.plot(kind = 'bar', x = 'chi_community_areas', y = ['percent_diff_2010_2017'])\n",
    "ax.set_xlabel('The Loop CCA')\n",
    "ax.set_ylabel('Percent Diff in Population')\n",
    "ax.set_title(\"Percent Diff in Population from 2010 to 2017\", size = 14)\n",
    "plt.legend(bbox_to_anchor=(1.01, 1),borderaxespad=0)\n",
    "plt.setp( ax.xaxis.get_majorticklabels(), rotation= 360 )\n",
    "\n",
    "\n",
    "for p in ax.patches:\n",
    "    n = '{:.1f}%'.format(p.get_height())\n",
    "    x = p.get_x() + p.get_width() - 0.33\n",
    "    y = p.get_y() + p.get_height()/2 \n",
    "    ax.annotate(n, (x,y), size = 14, color = 'black')\n",
    "    \n",
    "plt.show()"
   ]
  },
  {
   "cell_type": "markdown",
   "metadata": {},
   "source": [
    "### Deep dive into the Washington/Cross Roads Loop Stations (Washington/Wabash, Washington/Wells, Washington/Dearborn)\n",
    "\n",
    "### The loop ridership at two of these stations saw an increase by 21.7% and 7.3% .\n",
    "### Washington/Wabash Loop station opened in August 2107. Therefore the percent change in ridership from 2014 to 2019 could not be calculated. However, for 2019 the annual ridership was ~ 3.13 Million.\n",
    "\n",
    "### This increase in the ridership concentrated around the Washington Street L-stations could possibly be related to the increase in the loop area population"
   ]
  },
  {
   "cell_type": "code",
   "execution_count": 302,
   "metadata": {},
   "outputs": [
    {
     "data": {
      "text/html": [
       "<div>\n",
       "<style scoped>\n",
       "    .dataframe tbody tr th:only-of-type {\n",
       "        vertical-align: middle;\n",
       "    }\n",
       "\n",
       "    .dataframe tbody tr th {\n",
       "        vertical-align: top;\n",
       "    }\n",
       "\n",
       "    .dataframe thead th {\n",
       "        text-align: right;\n",
       "    }\n",
       "</style>\n",
       "<table border=\"1\" class=\"dataframe\">\n",
       "  <thead>\n",
       "    <tr style=\"text-align: right;\">\n",
       "      <th>year</th>\n",
       "      <th>stationame</th>\n",
       "      <th>2014</th>\n",
       "      <th>2019</th>\n",
       "      <th>percent_change_2014_2019</th>\n",
       "    </tr>\n",
       "  </thead>\n",
       "  <tbody>\n",
       "    <tr>\n",
       "      <th>13</th>\n",
       "      <td>Washington/Dearborn</td>\n",
       "      <td>3431799.0</td>\n",
       "      <td>4176948.0</td>\n",
       "      <td>21.713072</td>\n",
       "    </tr>\n",
       "    <tr>\n",
       "      <th>15</th>\n",
       "      <td>Washington/Wells</td>\n",
       "      <td>2063759.0</td>\n",
       "      <td>2214522.0</td>\n",
       "      <td>7.305262</td>\n",
       "    </tr>\n",
       "    <tr>\n",
       "      <th>14</th>\n",
       "      <td>Washington/Wabash</td>\n",
       "      <td>NaN</td>\n",
       "      <td>3126070.0</td>\n",
       "      <td>NaN</td>\n",
       "    </tr>\n",
       "  </tbody>\n",
       "</table>\n",
       "</div>"
      ],
      "text/plain": [
       "year           stationame       2014       2019  percent_change_2014_2019\n",
       "13    Washington/Dearborn  3431799.0  4176948.0                 21.713072\n",
       "15       Washington/Wells  2063759.0  2214522.0                  7.305262\n",
       "14      Washington/Wabash        NaN  3126070.0                       NaN"
      ]
     },
     "execution_count": 302,
     "metadata": {},
     "output_type": "execute_result"
    }
   ],
   "source": [
    "washington_loop_stations_2014_2019 = loop_stations_2014_19.query('stationame == [\"Washington/Dearborn\", \"Washington/Wells\", \"Washington/Wabash\"]')\n",
    "washington_loop_stations_2014_2019['percent_change_2014_2019'] = 100 * (washington_loop_stations_2014_2019[2019] - washington_loop_stations_2014_2019[2014])/washington_loop_stations_2014_2019[2014]\n",
    "washington_loop_stations_2014_2019.sort_values(by = 'percent_change_2014_2019', ascending = False, inplace = True)\n",
    "washington_loop_stations_2014_2019"
   ]
  },
  {
   "cell_type": "code",
   "execution_count": 141,
   "metadata": {},
   "outputs": [
    {
     "data": {
      "text/plain": [
       "<Figure size 360x360 with 0 Axes>"
      ]
     },
     "metadata": {},
     "output_type": "display_data"
    },
    {
     "data": {
      "image/png": "[encoded data removed]",
      "text/plain": [
       "<Figure size 432x288 with 1 Axes>"
      ]
     },
     "metadata": {
      "needs_background": "light"
     },
     "output_type": "display_data"
    }
   ],
   "source": [
    "# Bar plot of the percent change in Washington Street Loop Stations Ridership from 2014 to 2019\n",
    "\n",
    "plt.figure(figsize = (5,5))\n",
    "\n",
    "ax = washington_loop_stations_2014_2019.plot(kind = 'bar', x = 'stationame', y = ['percent_change_2014_2019'])\n",
    "ax.set_xlabel('Washington Loop Stations')\n",
    "ax.set_ylabel(\"% Diff from 2014 to 2019\", size = 14)\n",
    "plt.ylim(0,25)\n",
    "plt.legend(bbox_to_anchor=(0.6, 1),borderaxespad=0)\n",
    "plt.setp( ax.xaxis.get_majorticklabels(), rotation= 360 )\n",
    "plt.legend(bbox_to_anchor=(1.6, 1),borderaxespad=0)\n",
    "\n",
    "\n",
    "for p in ax.patches:\n",
    "    n = '{:.1f}%'.format(p.get_height())\n",
    "    x = p.get_x() + p.get_width() - 0.4    \n",
    "    y = p.get_y() + p.get_height()/2\n",
    "    ax.annotate(n, (x,y), size = 14, color = 'black')\n",
    "    \n",
    "plt.show()"
   ]
  },
  {
   "cell_type": "markdown",
   "metadata": {},
   "source": [
    "### Ridership at the Loop station - Washington/Wabash from 2018 to 2019 "
   ]
  },
  {
   "cell_type": "code",
   "execution_count": 324,
   "metadata": {},
   "outputs": [
    {
     "data": {
      "text/html": [
       "<div>\n",
       "<style scoped>\n",
       "    .dataframe tbody tr th:only-of-type {\n",
       "        vertical-align: middle;\n",
       "    }\n",
       "\n",
       "    .dataframe tbody tr th {\n",
       "        vertical-align: top;\n",
       "    }\n",
       "\n",
       "    .dataframe thead th {\n",
       "        text-align: right;\n",
       "    }\n",
       "</style>\n",
       "<table border=\"1\" class=\"dataframe\">\n",
       "  <thead>\n",
       "    <tr style=\"text-align: right;\">\n",
       "      <th>year</th>\n",
       "      <th>stationame</th>\n",
       "      <th>2018</th>\n",
       "      <th>2019</th>\n",
       "      <th>percent_change_2018_2019</th>\n",
       "    </tr>\n",
       "  </thead>\n",
       "  <tbody>\n",
       "    <tr>\n",
       "      <th>0</th>\n",
       "      <td>Washington/Wabash</td>\n",
       "      <td>3178881</td>\n",
       "      <td>3126070</td>\n",
       "      <td>-1.661308</td>\n",
       "    </tr>\n",
       "  </tbody>\n",
       "</table>\n",
       "</div>"
      ],
      "text/plain": [
       "year         stationame     2018     2019  percent_change_2018_2019\n",
       "0     Washington/Wabash  3178881  3126070                 -1.661308"
      ]
     },
     "execution_count": 324,
     "metadata": {},
     "output_type": "execute_result"
    }
   ],
   "source": [
    "merged_rides_lines201819 = l_rides[(l_rides['year'] == 2018) | (l_rides['year'] == 2019)]\n",
    "l_rides_lines201819 = merged_rides_lines201819.groupby(['stationame', 'year']).sum()\n",
    "l_rides_lines201819\n",
    "\n",
    "wash_wabash_station_2018_2019 = merged_rides_lines201819.query('stationame == [\"Washington/Wabash\"]').reset_index()\n",
    "wash_wabash_stations_2018_19 = pd.pivot_table(data = wash_wabash_station_2018_2019, index = 'stationame', columns = 'year', values = 'monthtotal', aggfunc = 'sum').reset_index()\n",
    "wash_wabash_stations_2018_19['percent_change_2018_2019'] = 100 * (wash_wabash_stations_2018_19[2019] - wash_wabash_stations_2018_19[2018])/wash_wabash_stations_2018_19[2018]\n",
    "wash_wabash_stations_2018_19"
   ]
  },
  {
   "cell_type": "code",
   "execution_count": 325,
   "metadata": {},
   "outputs": [
    {
     "data": {
      "text/plain": [
       "<Figure size 360x360 with 0 Axes>"
      ]
     },
     "metadata": {},
     "output_type": "display_data"
    },
    {
     "data": {
      "image/png": "[encoded data removed]",
      "text/plain": [
       "<Figure size 432x288 with 1 Axes>"
      ]
     },
     "metadata": {
      "needs_background": "light"
     },
     "output_type": "display_data"
    }
   ],
   "source": [
    "# Bar plot of the percent change in  Ridership from 2018 to 2019 at the Washington/Wabash Station\n",
    "\n",
    "plt.figure(figsize = (5,5))\n",
    "\n",
    "ax = wash_wabash_stations_2018_19.plot(kind = 'bar', x = 'stationame', y = ['percent_change_2018_2019'])\n",
    "ax.set_xlabel('Washington/Wabash Loop Station')\n",
    "ax.set_ylabel(\"% Diff from 2018 to 2019\", size = 14)\n",
    "ax.set_title(\"% Diff in Washington/Wabash Station Ridership (2018 to 2019)\", size = 14)\n",
    "plt.ylim(-2,1)\n",
    "plt.legend(bbox_to_anchor=(0.6, 1),borderaxespad=0)\n",
    "plt.setp( ax.xaxis.get_majorticklabels(), rotation= 360 )\n",
    "plt.legend(bbox_to_anchor=(1.6, 1),borderaxespad=0)\n",
    "\n",
    "\n",
    "for p in ax.patches:\n",
    "    n = '{:.1f}%'.format(p.get_height())\n",
    "    x = p.get_x() + p.get_width() - 0.3    \n",
    "    y = p.get_y() + p.get_height()/2\n",
    "    ax.annotate(n, (x,y), size = 14, color = 'black')\n",
    "    \n",
    "plt.show()"
   ]
  }
 ],
 "metadata": {
  "kernelspec": {
   "display_name": "Python 3",
   "language": "python",
   "name": "python3"
  },
  "language_info": {
   "codemirror_mode": {
    "name": "ipython",
    "version": 3
   },
   "file_extension": ".py",
   "mimetype": "text/x-python",
   "name": "python",
   "nbconvert_exporter": "python",
   "pygments_lexer": "ipython3",
   "version": "3.7.6"
  }
 },
 "nbformat": 4,
 "nbformat_minor": 4
}
